{
 "cells": [
  {
   "cell_type": "markdown",
   "id": "40261e9b-c536-41bc-8a0a-b7d7c6aa0baa",
   "metadata": {},
   "source": [
    "# Lab | LangChain Med\n",
    "\n",
    "## Objectives\n",
    "\n",
    "- continue on with lesson 2' example, use different datasets to test what we did in class. Some datasets are suggested in the notebook but feel free to scout other datasets on HuggingFace or Kaggle.\n",
    "- Find another model on Hugging Face and compare it.\n",
    "- Modify the prompt to fit your selected dataset."
   ]
  },
  {
   "cell_type": "code",
   "execution_count": 7,
   "id": "2eab1e2e",
   "metadata": {},
   "outputs": [
    {
     "name": "stdout",
     "output_type": "stream",
     "text": [
      "\u001b[33mWARNING: Running pip as the 'root' user can result in broken permissions and conflicting behaviour with the system package manager. It is recommended to use a virtual environment instead: https://pip.pypa.io/warnings/venv\u001b[0m\u001b[33m\n",
      "\u001b[0m\u001b[31mERROR: pip's dependency resolver does not currently take into account all the packages that are installed. This behaviour is the source of the following dependency conflicts.\n",
      "torchaudio 2.1.1+cu121 requires torch==2.1.1, but you have torch 2.5.0 which is incompatible.\n",
      "torchvision 0.16.1+cu121 requires torch==2.1.1, but you have torch 2.5.0 which is incompatible.\u001b[0m\u001b[31m\n",
      "\u001b[0m\u001b[33mWARNING: Running pip as the 'root' user can result in broken permissions and conflicting behaviour with the system package manager. It is recommended to use a virtual environment instead: https://pip.pypa.io/warnings/venv\u001b[0m\u001b[33m\n",
      "\u001b[0m\u001b[31mERROR: pip's dependency resolver does not currently take into account all the packages that are installed. This behaviour is the source of the following dependency conflicts.\n",
      "gradient 2.0.6 requires attrs<=19, but you have attrs 23.1.0 which is incompatible.\n",
      "gradient 2.0.6 requires PyYAML==5.*, but you have pyyaml 6.0.2 which is incompatible.\u001b[0m\u001b[31m\n",
      "\u001b[0m\u001b[33mWARNING: Running pip as the 'root' user can result in broken permissions and conflicting behaviour with the system package manager. It is recommended to use a virtual environment instead: https://pip.pypa.io/warnings/venv\u001b[0m\u001b[33m\n",
      "\u001b[0m"
     ]
    }
   ],
   "source": [
    "!pip install -q sentence-transformers\n",
    "!pip install -q xformers\n",
    "!pip install -q chromadb"
   ]
  },
  {
   "cell_type": "code",
   "execution_count": 1,
   "id": "39ce0d3f",
   "metadata": {
    "papermill": {
     "duration": 0.028165,
     "end_time": "2024-02-21T15:58:20.016814",
     "exception": false,
     "start_time": "2024-02-21T15:58:19.988649",
     "status": "completed"
    },
    "tags": []
   },
   "outputs": [],
   "source": [
    "import numpy as np \n",
    "import pandas as pd"
   ]
  },
  {
   "cell_type": "markdown",
   "id": "57dad70f",
   "metadata": {
    "papermill": {
     "duration": 0.016026,
     "end_time": "2024-02-21T15:58:20.049214",
     "exception": false,
     "start_time": "2024-02-21T15:58:20.033188",
     "status": "completed"
    },
    "tags": []
   },
   "source": [
    "## Load the Dataset\n",
    "As you can see the notebook is ready to work with three different Datasets. Just uncomment the lines of the Dataset you want to use. \n",
    "\n",
    "I selected Datasets with News. Two of them have just a brief decription of the news, but the other contains the full text. \n",
    "\n",
    "As we are working in a free and limited space, I limited the number of news to use with the variable MAX_NEWS. Feel free to pull more if you have memory available. \n",
    "\n",
    "The name of the field containing the text of the new is stored in the variable *DOCUMENT* and the metadata in *TOPIC*"
   ]
  },
  {
   "cell_type": "code",
   "execution_count": 5,
   "id": "e70a47e0",
   "metadata": {
    "papermill": {
     "duration": 1.170763,
     "end_time": "2024-02-21T15:58:21.235862",
     "exception": false,
     "start_time": "2024-02-21T15:58:20.065099",
     "status": "completed"
    },
    "tags": []
   },
   "outputs": [],
   "source": [
    "# news = pd.read_csv('/kaggle/input/topic-labeled-news-dataset/labelled_newscatcher_dataset.csv', sep=';')\n",
    "# MAX_NEWS = 1000\n",
    "# DOCUMENT=\"title\"\n",
    "# TOPIC=\"topic\"\n",
    "\n",
    "news = pd.read_csv('bbc_news.csv',delimiter=\"\\t\")\n",
    "MAX_NEWS = 1000\n",
    "DOCUMENT=\"content\"\n",
    "TOPIC=\"title\"\n",
    "\n",
    "#news = pd.read_csv('/kaggle/input/mit-ai-news-published-till-2023/articles.csv')\n",
    "#MAX_NEWS = 100\n",
    "#DOCUMENT=\"Article Body\"\n",
    "#TOPIC=\"Article Header\"\n",
    "\n",
    "#news = \"PICK A DATASET\" #Ideally pick one from the commented ones above"
   ]
  },
  {
   "cell_type": "markdown",
   "id": "aeb276f4",
   "metadata": {
    "papermill": {
     "duration": 0.016461,
     "end_time": "2024-02-21T15:58:21.268282",
     "exception": false,
     "start_time": "2024-02-21T15:58:21.251821",
     "status": "completed"
    },
    "tags": []
   },
   "source": [
    "ChromaDB requires that the data has a unique identifier. We can make it with this statement, which will create a new column called **Id**.\n"
   ]
  },
  {
   "cell_type": "code",
   "execution_count": 6,
   "id": "61c151df",
   "metadata": {
    "papermill": {
     "duration": 0.054847,
     "end_time": "2024-02-21T15:58:21.339906",
     "exception": false,
     "start_time": "2024-02-21T15:58:21.285059",
     "status": "completed"
    },
    "tags": []
   },
   "outputs": [
    {
     "data": {
      "text/html": [
       "<div>\n",
       "<style scoped>\n",
       "    .dataframe tbody tr th:only-of-type {\n",
       "        vertical-align: middle;\n",
       "    }\n",
       "\n",
       "    .dataframe tbody tr th {\n",
       "        vertical-align: top;\n",
       "    }\n",
       "\n",
       "    .dataframe thead th {\n",
       "        text-align: right;\n",
       "    }\n",
       "</style>\n",
       "<table border=\"1\" class=\"dataframe\">\n",
       "  <thead>\n",
       "    <tr style=\"text-align: right;\">\n",
       "      <th></th>\n",
       "      <th>category</th>\n",
       "      <th>filename</th>\n",
       "      <th>title</th>\n",
       "      <th>content</th>\n",
       "      <th>id</th>\n",
       "    </tr>\n",
       "  </thead>\n",
       "  <tbody>\n",
       "    <tr>\n",
       "      <th>0</th>\n",
       "      <td>business</td>\n",
       "      <td>001.txt</td>\n",
       "      <td>Ad sales boost Time Warner profit</td>\n",
       "      <td>Quarterly profits at US media giant TimeWarne...</td>\n",
       "      <td>0</td>\n",
       "    </tr>\n",
       "    <tr>\n",
       "      <th>1</th>\n",
       "      <td>business</td>\n",
       "      <td>002.txt</td>\n",
       "      <td>Dollar gains on Greenspan speech</td>\n",
       "      <td>The dollar has hit its highest level against ...</td>\n",
       "      <td>1</td>\n",
       "    </tr>\n",
       "    <tr>\n",
       "      <th>2</th>\n",
       "      <td>business</td>\n",
       "      <td>003.txt</td>\n",
       "      <td>Yukos unit buyer faces loan claim</td>\n",
       "      <td>The owners of embattled Russian oil giant Yuk...</td>\n",
       "      <td>2</td>\n",
       "    </tr>\n",
       "    <tr>\n",
       "      <th>3</th>\n",
       "      <td>business</td>\n",
       "      <td>004.txt</td>\n",
       "      <td>High fuel prices hit BA's profits</td>\n",
       "      <td>British Airways has blamed high fuel prices f...</td>\n",
       "      <td>3</td>\n",
       "    </tr>\n",
       "    <tr>\n",
       "      <th>4</th>\n",
       "      <td>business</td>\n",
       "      <td>005.txt</td>\n",
       "      <td>Pernod takeover talk lifts Domecq</td>\n",
       "      <td>Shares in UK drinks and food firm Allied Dome...</td>\n",
       "      <td>4</td>\n",
       "    </tr>\n",
       "  </tbody>\n",
       "</table>\n",
       "</div>"
      ],
      "text/plain": [
       "   category filename                              title  \\\n",
       "0  business  001.txt  Ad sales boost Time Warner profit   \n",
       "1  business  002.txt   Dollar gains on Greenspan speech   \n",
       "2  business  003.txt  Yukos unit buyer faces loan claim   \n",
       "3  business  004.txt  High fuel prices hit BA's profits   \n",
       "4  business  005.txt  Pernod takeover talk lifts Domecq   \n",
       "\n",
       "                                             content  id  \n",
       "0   Quarterly profits at US media giant TimeWarne...   0  \n",
       "1   The dollar has hit its highest level against ...   1  \n",
       "2   The owners of embattled Russian oil giant Yuk...   2  \n",
       "3   British Airways has blamed high fuel prices f...   3  \n",
       "4   Shares in UK drinks and food firm Allied Dome...   4  "
      ]
     },
     "execution_count": 6,
     "metadata": {},
     "output_type": "execute_result"
    }
   ],
   "source": [
    "news[\"id\"] = news.index\n",
    "news.head()"
   ]
  },
  {
   "cell_type": "code",
   "execution_count": 7,
   "id": "1849922b",
   "metadata": {
    "papermill": {
     "duration": 0.027701,
     "end_time": "2024-02-21T15:58:21.383814",
     "exception": false,
     "start_time": "2024-02-21T15:58:21.356113",
     "status": "completed"
    },
    "tags": []
   },
   "outputs": [],
   "source": [
    "#Because it is just a course we select a small portion of News.\n",
    "subset_news = news.head(MAX_NEWS)"
   ]
  },
  {
   "cell_type": "markdown",
   "id": "893babc1",
   "metadata": {
    "papermill": {
     "duration": 0.015939,
     "end_time": "2024-02-21T15:58:21.416088",
     "exception": false,
     "start_time": "2024-02-21T15:58:21.400149",
     "status": "completed"
    },
    "tags": []
   },
   "source": [
    "## Import and configure the Vector Database\n",
    "I'm going to use ChromaDB, the most popular OpenSource embedding Database. \n",
    "\n",
    "First we need to import ChromaDB, and after that import the **Settings** class from **chromadb.config** module. This class allows us to change the setting for the ChromaDB system, and customize its behavior. "
   ]
  },
  {
   "cell_type": "code",
   "execution_count": 8,
   "id": "82db86aa",
   "metadata": {
    "papermill": {
     "duration": 1.095805,
     "end_time": "2024-02-21T15:58:22.528102",
     "exception": false,
     "start_time": "2024-02-21T15:58:21.432297",
     "status": "completed"
    },
    "tags": []
   },
   "outputs": [],
   "source": [
    "import chromadb\n",
    "from chromadb.config import Settings"
   ]
  },
  {
   "cell_type": "markdown",
   "id": "051bc3a1",
   "metadata": {
    "papermill": {
     "duration": 0.015938,
     "end_time": "2024-02-21T15:58:22.560953",
     "exception": false,
     "start_time": "2024-02-21T15:58:22.545015",
     "status": "completed"
    },
    "tags": []
   },
   "source": [
    "Now we need to create the seetings object calling the **Settings** function imported previously. We store the object in the variable **settings_chroma**.\n",
    "\n",
    "Is necessary to inform two parameters \n",
    "* chroma_db_impl. Here we specify the database implementation and the format how store the data. I choose ***duckdb***, because his high-performace. It operate primarly in memory. And is fully compatible with SQL. The store format ***parquet*** is good for tabular data. With good compression rates and performance. \n",
    "\n",
    "* persist_directory: It just contains the directory where the data will be stored. Is possible work without a directory and the data will be stored in memory without persistece, but Kaggle dosn't support that. "
   ]
  },
  {
   "cell_type": "code",
   "execution_count": 12,
   "id": "b21a77ff",
   "metadata": {
    "papermill": {
     "duration": 0.640745,
     "end_time": "2024-02-21T15:58:23.217828",
     "exception": false,
     "start_time": "2024-02-21T15:58:22.577083",
     "status": "completed"
    },
    "tags": []
   },
   "outputs": [],
   "source": [
    "chroma_client = chromadb.PersistentClient(path=\"data/\")"
   ]
  },
  {
   "cell_type": "markdown",
   "id": "b5176774",
   "metadata": {
    "papermill": {
     "duration": 0.016853,
     "end_time": "2024-02-21T15:58:23.252446",
     "exception": false,
     "start_time": "2024-02-21T15:58:23.235593",
     "status": "completed"
    },
    "tags": []
   },
   "source": [
    "## Filling and Querying the ChromaDB Database\n",
    "The Data in ChromaDB is stored in collections. If the collection exist we need to delete it. \n",
    "\n",
    "In the next lines, we are creating the collection by calling the ***create_collection*** function in the ***chroma_client*** created above."
   ]
  },
  {
   "cell_type": "code",
   "execution_count": 13,
   "id": "a0cc5748",
   "metadata": {
    "papermill": {
     "duration": 0.090234,
     "end_time": "2024-02-21T15:58:23.358887",
     "exception": false,
     "start_time": "2024-02-21T15:58:23.268653",
     "status": "completed"
    },
    "tags": []
   },
   "outputs": [],
   "source": [
    "collection_name = \"news_collection\"\n",
    "if len(chroma_client.list_collections()) > 0 and collection_name in [chroma_client.list_collections()[0].name]:\n",
    "        chroma_client.delete_collection(name=collection_name)\n",
    "\n",
    "collection = chroma_client.create_collection(name=collection_name)"
   ]
  },
  {
   "cell_type": "markdown",
   "id": "688831d1",
   "metadata": {
    "papermill": {
     "duration": 0.01831,
     "end_time": "2024-02-21T15:58:23.394771",
     "exception": false,
     "start_time": "2024-02-21T15:58:23.376461",
     "status": "completed"
    },
    "tags": []
   },
   "source": [
    "It's time to add the data to the collection. Using the function ***add*** we need to inform, at least ***documents***, ***metadatas*** and ***ids***. \n",
    "* In the **document** we store the big text, it's a different column in each Dataset. \n",
    "* In **metadatas**, we can informa a list of topics. \n",
    "* In **id** we need to inform an unique identificator for each row. It MUST be unique! I'm creating the ID using the range of MAX_NEWS. \n"
   ]
  },
  {
   "cell_type": "code",
   "execution_count": 14,
   "id": "4fb1a28a",
   "metadata": {
    "papermill": {
     "duration": 89.680388,
     "end_time": "2024-02-21T15:59:53.091437",
     "exception": false,
     "start_time": "2024-02-21T15:58:23.411049",
     "status": "completed"
    },
    "tags": []
   },
   "outputs": [],
   "source": [
    "\n",
    "collection.add(\n",
    "    documents=subset_news[DOCUMENT].tolist(),\n",
    "    metadatas=[{TOPIC: topic} for topic in subset_news[TOPIC].tolist()],\n",
    "    ids=[f\"id{x}\" for x in range(MAX_NEWS)],\n",
    ")"
   ]
  },
  {
   "cell_type": "code",
   "execution_count": 15,
   "id": "ff6a4fcf",
   "metadata": {
    "papermill": {
     "duration": 0.121938,
     "end_time": "2024-02-21T15:59:53.236515",
     "exception": false,
     "start_time": "2024-02-21T15:59:53.114577",
     "status": "completed"
    },
    "tags": []
   },
   "outputs": [
    {
     "name": "stdout",
     "output_type": "stream",
     "text": [
      "{'ids': [['id210', 'id46', 'id334', 'id55', 'id116', 'id406', 'id129', 'id68', 'id185', 'id338']], 'embeddings': None, 'documents': [[\" Consumer electronics giants Hitachi and Matshushita Electric are joining forces to share and develop technology for flat screen televisions.  The tie-up comes as the world's top producers are having to contend with falling prices and intense competition. The two Japanese companies will collaborate in research & development, production, marketing and licensing. They said the agreement would enable the two companies to expand the plasma display TV market globally.  Plasma display panels are used for large, thin TVs which are replacing old-style televisions. The display market for high-definition televisions is split between models using plasma display panels and others - manufactured by the likes of Sony and Samsung - using liquid-crystal displays (LCDs). The deal will enable Hitachi and Matsushita, which makes Panasonic brand products, to develop new technology and improve their competitiveness. Hitachi recently announced a deal to buy plasma display technology from rival Fujitsu in an effort to strengthen its presence in the market.  Separately, Fujitsu announced on Monday that it is quitting the LCD panel market by transferring its operations in the area to Japanese manufacturer Sharp. Sharp will inherit staff, manufacturing facilities and intellectual property from Fujitsu. The plasma panel market has seen rapid consolidation in recent months as the price of consumer electronic goods and components has fallen. Samsung Electronics and Sony are among other companies working together to reduce costs and speed up new product development. \", ' Budget airline Ryanair has placed an order for 70 Boeing 737-800 planes, in a deal valued at $4bn (£2.1bn) which should lead to 2,500 new Ryanair jobs.  It also has an option for a further 70 aircraft, a move which brings the Ryanair/Boeing order book up to 225 firm orders and options on 193 more. Ryanair said the new planes would help it to cut operating costs further. The carrier reported a drop in quarterly profit earlier this year after it was hit by higher fuel costs. However, when it reported the results, the airline was upbeat about prospects for 2005, despite tough competition in the budget airline market.  Ryanair chairman David Bonderman said that the 737-800 had \"significantly reduced our unit operating costs and allowed us to reduce air fares each year for the last five years\".  \"With this new order and new pricing in place, Ryanair expects that unit operating costs (excluding fuel) will continue to fall each year for the next five years,\" he added. At the end of this year, Ryanair will have taken delivery of about 100 new planes, while the 70 new orders are due for delivery between 2008 and 2012. The airline said that when all these planes have been delivered, it will be able to carry more than 70 million passengers a year, making it Europe\\'s largest airline. About 2,500 new jobs should be created in the next seven years, it added. The order can be seen as good news for Boeing, which in recent years has been overtaken by European plane maker Airbus as the world\\'s biggest-selling plane maker. ', ' Boeing is to supply Japan Airlines with up to 50 of its forthcoming 7E7 planes in a deal that could be worth as much as $6bn (£3.1bn) for the US giant.  Japan Airlines has made a firm order for 30 of the aircraft, at $120m each, with the option to buy 20 more. Asia\\'s biggest airline joins Japanese rival All Nippon as one of the first carriers to order the mid-size 7E7, which Boeing says is super-economical. Airbus this week announced the first pre-sale of its 7E7 rival - the A350. Boeing\\'s great European competitor is to sell 10 of its forthcoming A350 to Spanish carrier Air Europe, which has the option to buy two more in a deal that could be worth more than $1.8bn. Both the 7E7 and the A350 are being designed to be as fuel-efficient as possible in the 200- to 300-seat sector, and each will be available in both short and long range versions.  Japan Airlines said it had looked at both aircraft before choosing the 7E7, also known as the Dreamliner. \"We chose the 7E7 after carefully considering both it and Airbus\\' aircraft,\" said a Japan Airlines spokesman. \"The 7E7 fits better for what we needed and it could be delivered when we hoped to get it.\" Boeing continues to enjoy a dominance over Airbus in Japan, and Japanese companies are taking key roles in building the 7E7. The first 7E7s will be delivered to Japan Airlines in April 2008. Boeing has set itself a target of getting 200 firm commitments for the 7E7 by the end of this year, and has orders for 56 so far. Airbus hopes to have 50 orders in place for the A350 by mid-2005. ', ' BMW has forecast sales growth of at least 10% in Asia this year after registering record sales there in 2004.  The luxury carmaker saw strong sales of its three marques - BMW, Mini and Rolls-Royce - in Asia last year after the launch of three new models. The company, which is vying with Mercedes-Benz for the title of leading premium carmaker, is confident about its prospects for the region in 2005. It is launching a revamped version of its 3-Series saloon class next month.  BMW sold nearly 95,000 cars in Asia last year, up 2.6% on 2003.  BMW-brand sales rose 2.3% to 80,600 while sales of Mini models rose 3.6% to 14,800. There was also a significant increase in sales of Rolls-Royces on the continent. BMW sold more than 100 of the iconic models compared with just ten the previous year. The German carmaker is aiming to boost annual sales in Asia to 150,000 by 2008. \"Here in Asia, we consider a double-digit increase in retail on the order of 10 to 15% to be realistic on the basis of current features,\" said Helmut Panke, BMW\\'s group chief executive.  China remains the main area of concern for BMW after sales there fell 16% last year. However, BMW is hopeful of a much better year in 2005 as its direct investment in China begins to pay dividends. The company only began assembling luxury high-powered sedans in China in 2003. 2004 was generally a good year for BMW, which saw revenues from its core car-making operations rise 11%. ', ' A slump in profitability at luxury car maker Mercedes has prompted a big drop in profits at parent DaimlerChrysler.  The German-US carmaker saw fourth quarter operating profits fall to 785m euros ($1bn) from 2.4bn euros in 2003. Mercedes-Benz\\'s woes - its profits slid to just 20m euros - obscured a strong performance from the Chrysler group whose returns met market expectations. Mercedes faces fierce competition in the luxury car sector from BMW and but hopes to revive its fortunes by 2006.  Mercedes\\' profits over the period compared unfavourably with 2003\\'s 784m euro figure and were well below analyst expectations of 374m euros. For the year as a whole, its operating profits fell 46% to 1.6bn euros. Sales of Mercedes\\' brands fell 2% as demand cooled, while revenues were affected by the weakness of the US dollar.  The carmaker blamed the fall in profits on high launch costs for new models and losses from its Mercedes Smart mini-car range. Mercedes is hoping to increase productivity by 3bn euros, having negotiated 500m euros in annual savings with German workers last year. The firm said it was determined to retain Mercedes\\' position as the world\\'s most successful luxury brand. However, DaimlerChrysler\\'s shares fell 1.5% on the news. \"While all these divisions are doing well the big worries continue to surround Mercedes-Benz,\" Michael Rabb, an analyst with Bank Sal Oppenheim, told Reuters.  In contrast, Chrysler enjoyed a 5% annual increase in unit sales while revenues - calculated in US dollars - rose 10%. The US division - whose marques include Dodge and Jeep - transformed a full year operating loss of 506m euros in 2003 into a 1.4bn euros profit last year.  Overall, DaimlerChrysler saw worldwide vehicle sales rise 8% to 4.7 million in 2004 while total revenues added 4% to 142bn euros. Chrysler\\'s strong performance helped the world\\'s fifth largest carmaker boost net income by 400m euros to 2.5bn euros.  \"The year 2004 shows that our strategy works well - even in such a challenging competitive environment,\" said Jurgen Schrempp, DaimlerChrysler\\'s chairman. DaimlerChrysler took a 475m euro hit in costs stemming from a defects scandal at its joint venture, Japanese subsidiary Fuso. DaimlerChrysler last week agreed a compensation package with partner Mitsubishi Motors which will see it buy out its stake in Fuso. Looking forward, DaimerChrysler\\'s profits are expected to be slightly higher in 2005. However, it is expecting \"significant improvements\" in profitability in 2006 as a result of a major investment in the Mercedes product range. ', ' Air Deccan has signed a deal to acquire 36 planes from Avions de Transport Regional (ATR).  The value of the deal has not been revealed, because of a confidentiality clause in the agreement. But Air Deccan\\'s managing director Gorur Gopinath has said the price agreed was less than the catalogue price of $17.6m (£9.49m) per plane. Recently, India\\'s first low-cost airline ordered 30 Airbus A320 planes for $1.8bn.  Under the agreement, Air Deccan will buy 15 new ATR 72-500 and lease another 15. ATR will also provide six second hand airplanes. In a statement, ATR has said deliveries of the aircraft will begin in 2005 and will continue over a five-year period.  Mr Gopinath said the planes will connect regional Indian cities. \"After an evaluation of both ATR and Bombardier aircraft, we have chosen the ATR aircraft as we find it most suitable for our operations and for the Indian market for short haul routes.\" Filippo Bagnato, ATR\\'s chief executive, has said that his firm will also work with Air Deccan to create a training centre in Bangalore.  The potential of the Indian budget market has attracted attention from businesses at home and abroad. Air Deccan has said it will base its business model on European firms such as Ireland\\'s Ryanair. Beer magnate Vijay Mallya recently set up Kingfisher Airlines, while UK entrepreneur Richard Branson has said he is keen to start a local operation. India\\'s government has given its backing to cheaper and more accessible air travel. ', ' India\\'s defence minister has opened the country\\'s Aero India 2005 air show with an invitation for global aerospace firms to outsource jobs to the nation.  Pranab Mukherjee said such companies could take advantage of India\\'s highly skilled workers and low wages. More than 240 civil and military aerospace firms from 31 countries are attending the show. Analysts said India could spend up to $35bn (£18.8bn) in the aviation market over the next 20 years. Giants such Boeing and Airbus - on the civil aviation front - as well as Lockheed Martin and France\\'s Snecma - on the military side - are some of the firms attending the show. \"There is tremendous scope for outsourcing from India in areas where the companies are competitive,\" said Mr Mukerjee. \"We are keen to welcome international collaborations that are in conformity with our national goals.\"  Lockheed said it had signed an agreement with state-owned Hindustan Aeronautics (HAL) to share information on the P-3 Orion maritime surveillance aircraft.  In fact, the Indian Armed Force is considering the buying of used P-3 Orion as well as F-16 fighter jets from Lockheed. The US military industry has show a strong interest to open a link with India, now that relations between the two countries have improved a lot. In fact, it is the first time the US Air Force will attend the air show since sanctions imposed in 1998 after India\\'s nuclear tests were lifted. But the Indian Air Force is also considering proposals from other foreign firms such as France\\'s Dassault Aviation, Sweden\\'s Saab and Russia\\'s Mikoyan-Gurevich. Meanwhile, France\\'s Snecma has also said it plans a joint venture with HAL to make engine parts, with an initial investment of $6.5m.  On the civilian front, Boeing announced a deal with India\\'s HCL Technologies to develop a platform for the flight test system of its 787 Dreamliner aircraft. The US company also said it had agreed with a new Indian budget airline the sale of 10 737-800 planes for $630m. The airline, SpiceJet, will also have the option to acquire 10 more aircraft. Airbus has also recently signed fresh deals with two Indian airlines - Air Deccan and Kingfisher. In addition, the European company has plans to open a training centre in India. Meanwhile, flag carrier Air India is considering to buy 50 new aircraft from either Boeing or Airbus. \"No other market is going to see the growth that will be seen here in the coming years,\" said Dinesh Keskar, senior vice president Boeing. ', ' US aircraft firm Boeing has unveiled its new long-distance 777 plane, as it tries to regain its position as the industry\\'s leading manufacturer.  The 777-200LR will be capable of flying almost 11,000 miles non-stop, linking cities such as London and Sydney. Boeing, in contrast to European rival Airbus, hopes airlines will want to fly smaller aircraft over longer distances. Airbus, which overtook Boeing as the number one civilian planemaker in 2003, is focusing on so-called super jumbos.  Analysts are divided over which approach is best and say that this latest tussle between Boeing and Airbus may prove to be a defining moment for the airline industry. Boeing plans to offer twin-engine planes that are able to fly direct to many of the world\\'s airports, getting rid of the need for connecting flights.  It is banking on smaller, slimmer planes such as the 777-200LR and its much-anticipated 787 Dreamliner plane, which is set to take to the skies in 2008. The 777-200LR, which had its launch delayed by the 11 September attacks in the US, is the fifth variation of Boeing\\'s twin-aisle 777 plane. The company offically \"rolled-out\" the new 777 in Seattle at 2200 GMT. Better fuel efficiency from engines made by GE and lighter materials mean that the plane can connect almost any two cities worldwide.  \"Boeing has the latest variant in a very successful line of airplanes and there is no doubt it will continue to be very successful,\" said David Learmount, operations and safety editor at industry magazine Flight International. But the 777-200LR \"is a niche player\", Mr Learmount continued, adding that reach was not the only criteria airlines used when picking their aircraft. Mr Learmount pointed out that the 777-200LR has been on the market for a couple of years and only had limited success at attracting orders. He also said that while the plane may be able to fly to Sydney from London in one hit, prevailing winds meant that it would have to stop somewhere on the return journey.  For Airbus, the future is big - it is pinning its hopes on planes that can carry as many as 840 people between large hub airports. From there, passengers would be ferried to their final destinations by smaller planes. Airbus is also keeping its options open and plans to compete in all the main categories of aircraft. It has been producing a rival to Boeing\\'s 777 line for more than a year. \"Airbus is now where Boeing was a few years ago\" with its product range, said Flight International\\'s Mr Learmount.  Both Boeing and Airbus have been taking orders for their new planes. Boeing said it expected to sell about 500 of its 777-200LR planes over the next 20 years. It already has orders from Pakistan International Airlines and EVA of Taiwan. These orders should help underpin the company\\'s profits. Boeing said earnings during the last three months of 2004 dropped by 84% because of costs relating to stopping production of its smallest airliner, the 717, and the cancellation of a US air force 767 tanker contract. Net profit was $186m (£98m; 143m euros) in the quarter, compared with $1.13bn in the same period in 2003. ', ' Indian airline Jet Airways\\' initial public offering was oversubscribed 16.2 times, bankers said on Friday.  Over 85% of the bids were at the higher end of the price range of 1,050-1,125 rupees ($24-$26). Jet Airways, a low-fare airline, was founded by London-based ex-travel agent Naresh Goya, and controls 45% of the Indian domestic airline market. It sold 20% of its equity or 17.2 million shares in a bid to raise up to $443m (£230.8m). The price at which its shares will begin trading will be agreed over the weekend, bankers said. \"The demand for the IPO was impressive. We believe that over the next two years, the domestic aviation sector promises strong growth, even though fuel prices could be high,\" said Hiten Mehta, manager of merchant banking firm, Fortune Financial Services. India began to open up its domestic airline market - previously dominated by state-run carrier Indian Airlines - in the 1990s. Jet began flying in 1993 and now has competitors including Air Deccan and Air Sahara. Budget carriers Kingfisher Airlines and SpiceJet are planning to launch operations in May this year. Jet has 42 aircraft and runs 271 scheduled flights daily within India. It recently won government permission to fly to London, Singapore and Kuala Lumpur. ', ' Air Deccan has ordered 30 Airbus A320 planes in a $1.8bn (£931m) deal as India\\'s first low-cost airline expands in the fast-growing domestic market.  Air Deccan was set up last year and wants to lure travellers away from the railway network and pricier rivals. The potential of the Indian market has attracted attention at home and abroad. Beer magnate Vijay Mallya recently set up Kingfisher Airlines, while UK entrepreneur Richard Branson has said he is keen to start a local operation.  The country has a population of more than a billion people and many observers feel that it is underserved by airlines. Recently however, the booming economy has boosted personal spending power and helped swell the middle classes and the corporate sector. India\\'s government has given its backing to cheaper and more accessible air travel. \"The days of flying being a symbol of only maharajas or the rich are over,\" the minister for civil aviation Praful Patel said earlier. Infrastructure is being built to handle the expected increase in demand and on Tuesday, Agence France Presse reported that a group led by Germany\\'s Siemens won the contract to build a private airport near Bangalore. India\\'s airports authority and the state government will own 13% each of the finished transport hub. For its part, Air Deccan, set up by army officer and silk farmer Gorur Gopinath, plans to increase its fleet to 60 aircraft within five years. To help finance the expansion the company may sell a 25% stake to an investor for about $50m. When it was set up the firm offered tickets that were 50% cheaper than other Indian airlines. It said it was basing its business model on European firms such as Ireland\\'s Ryanair. ']], 'uris': None, 'data': None, 'metadatas': [[{'title': 'Electronics firms eye plasma deal'}, {'title': 'Ryanair in $4bn Boeing plane deal'}, {'title': 'Boeing secures giant Japan order'}, {'title': 'BMW drives record sales in Asia'}, {'title': 'Car giant hit by Mercedes slump'}, {'title': \"India's Deccan gets more planes\"}, {'title': 'Aviation firms eye booming India'}, {'title': 'Boeing unveils new 777 aircraft'}, {'title': 'Huge rush for Jet Airways shares'}, {'title': \"India's Deccan seals $1.8bn deal\"}]], 'distances': [[1.5135471820831299, 1.521813154220581, 1.5511043071746826, 1.5736690759658813, 1.5983861684799194, 1.603339672088623, 1.6118112802505493, 1.6161984205245972, 1.6238689422607422, 1.6273523569107056]], 'included': [<IncludeEnum.distances: 'distances'>, <IncludeEnum.documents: 'documents'>, <IncludeEnum.metadatas: 'metadatas'>]}\n"
     ]
    }
   ],
   "source": [
    "results = collection.query(query_texts=[\"laptop\"], n_results=10 )\n",
    "\n",
    "print(results)"
   ]
  },
  {
   "cell_type": "markdown",
   "id": "df96da9d",
   "metadata": {},
   "source": []
  },
  {
   "cell_type": "markdown",
   "id": "31fed3db",
   "metadata": {
    "papermill": {
     "duration": 0.02373,
     "end_time": "2024-02-21T15:59:53.281923",
     "exception": false,
     "start_time": "2024-02-21T15:59:53.258193",
     "status": "completed"
    },
    "tags": []
   },
   "source": [
    "## Vector MAP"
   ]
  },
  {
   "cell_type": "code",
   "execution_count": 16,
   "id": "f5ed54f5",
   "metadata": {
    "papermill": {
     "duration": 1.602967,
     "end_time": "2024-02-21T15:59:54.906788",
     "exception": false,
     "start_time": "2024-02-21T15:59:53.303821",
     "status": "completed"
    },
    "tags": []
   },
   "outputs": [
    {
     "ename": "ModuleNotFoundError",
     "evalue": "No module named 'matplotlib'",
     "output_type": "error",
     "traceback": [
      "\u001b[0;31m---------------------------------------------------------------------------\u001b[0m",
      "\u001b[0;31mModuleNotFoundError\u001b[0m                       Traceback (most recent call last)",
      "Cell \u001b[0;32mIn[16], line 1\u001b[0m\n\u001b[0;32m----> 1\u001b[0m \u001b[38;5;28;01mimport\u001b[39;00m \u001b[38;5;21;01mmatplotlib\u001b[39;00m\u001b[38;5;21;01m.\u001b[39;00m\u001b[38;5;21;01mpyplot\u001b[39;00m \u001b[38;5;28;01mas\u001b[39;00m \u001b[38;5;21;01mplt\u001b[39;00m\n\u001b[1;32m      2\u001b[0m \u001b[38;5;28;01mfrom\u001b[39;00m \u001b[38;5;21;01msklearn\u001b[39;00m\u001b[38;5;21;01m.\u001b[39;00m\u001b[38;5;21;01mdecomposition\u001b[39;00m \u001b[38;5;28;01mimport\u001b[39;00m PCA\n",
      "\u001b[0;31mModuleNotFoundError\u001b[0m: No module named 'matplotlib'"
     ]
    }
   ],
   "source": [
    "import matplotlib.pyplot as plt\n",
    "from sklearn.decomposition import PCA"
   ]
  },
  {
   "cell_type": "code",
   "execution_count": 17,
   "id": "da0b01dd",
   "metadata": {
    "papermill": {
     "duration": 0.034729,
     "end_time": "2024-02-21T15:59:54.962541",
     "exception": false,
     "start_time": "2024-02-21T15:59:54.927812",
     "status": "completed"
    },
    "tags": []
   },
   "outputs": [],
   "source": [
    "\n",
    "getado = collection.get(ids=\"id141\", \n",
    "                       include=[\"documents\", \"embeddings\"])"
   ]
  },
  {
   "cell_type": "code",
   "execution_count": 18,
   "id": "e24e00a5",
   "metadata": {
    "_kg_hide-output": true,
    "papermill": {
     "duration": 0.0397,
     "end_time": "2024-02-21T15:59:55.022025",
     "exception": false,
     "start_time": "2024-02-21T15:59:54.982325",
     "status": "completed"
    },
    "scrolled": true,
    "tags": []
   },
   "outputs": [
    {
     "data": {
      "text/plain": [
       "array([[ 6.99756294e-03, -5.59732085e-04, -1.15083801e-02,\n",
       "         5.36816940e-02,  7.77340084e-02, -7.26560503e-02,\n",
       "         8.80583469e-03,  9.31546465e-02, -1.39057320e-02,\n",
       "        -1.00719491e-02, -3.90935168e-02,  1.94387790e-02,\n",
       "        -2.40104701e-02,  2.34180801e-02,  3.50640789e-02,\n",
       "        -4.10372801e-02, -7.45410752e-03,  1.38830636e-02,\n",
       "        -4.51422483e-02,  4.01724093e-02, -2.87932418e-02,\n",
       "        -6.10837527e-02, -1.16567407e-02, -3.03301327e-02,\n",
       "         6.08684123e-03,  2.71561909e-02,  2.01890226e-02,\n",
       "        -3.62420902e-02, -2.97483038e-02,  2.49429643e-02,\n",
       "        -8.81100819e-02, -2.53466330e-02, -2.89995484e-02,\n",
       "        -8.29512440e-03,  3.39545906e-02,  1.67706255e-02,\n",
       "         3.71570252e-02,  5.87038957e-02,  2.40463503e-02,\n",
       "        -4.94027063e-02, -3.56398374e-02, -4.17391062e-02,\n",
       "         1.09790370e-01, -1.33552149e-01,  2.47979034e-02,\n",
       "         1.40881594e-02, -1.44505529e-02,  2.75919903e-02,\n",
       "        -2.44297925e-02, -1.62558246e-03,  4.79334705e-02,\n",
       "         2.87162699e-02, -4.07091230e-02,  1.09110232e-02,\n",
       "        -1.06242606e-02,  9.34755132e-02,  1.57599188e-02,\n",
       "        -1.19164912e-02,  9.20548569e-03,  5.15773743e-02,\n",
       "         1.84294186e-05,  2.56031360e-02,  1.92873068e-02,\n",
       "        -2.03557834e-02,  4.72221076e-02, -2.42336951e-02,\n",
       "         1.30515808e-04,  1.08219115e-02, -8.76649469e-03,\n",
       "         9.76547971e-02,  7.42523149e-02, -5.42364158e-02,\n",
       "        -1.69549920e-02, -2.13522017e-02, -1.03971928e-01,\n",
       "        -1.26136318e-02,  1.36175469e-01, -1.15083135e-03,\n",
       "         4.90369797e-02, -3.66773247e-03,  4.56538126e-02,\n",
       "        -1.23320827e-02,  1.79422293e-02, -1.10636488e-01,\n",
       "        -7.90081453e-03, -3.42544764e-02,  1.04018403e-02,\n",
       "        -7.44897232e-04,  1.43269403e-02,  4.89805900e-02,\n",
       "         6.96648434e-02,  2.94058342e-02,  3.39901894e-02,\n",
       "         4.58481573e-02,  1.69567913e-02,  1.58284772e-02,\n",
       "        -4.37473580e-02,  4.18790020e-02,  4.12565470e-03,\n",
       "         3.81321199e-02,  1.61138117e-01,  1.72947302e-01,\n",
       "         8.05324018e-02,  2.10379530e-02, -1.75000122e-03,\n",
       "        -4.59806547e-02,  1.33848591e-02,  8.45341664e-03,\n",
       "         1.65170506e-02,  7.21062906e-03, -5.10621741e-02,\n",
       "         7.35786036e-02, -1.96652524e-02,  1.29565678e-03,\n",
       "        -5.89921363e-02, -6.94701299e-02,  1.25861941e-02,\n",
       "        -6.39228746e-02, -7.51524791e-02,  8.77194181e-02,\n",
       "         4.51423787e-02,  5.02213016e-02, -3.12343817e-02,\n",
       "        -6.64597899e-02,  1.04904259e-02,  7.69210681e-02,\n",
       "        -3.53867840e-03,  3.42574906e-33, -2.05384176e-02,\n",
       "         1.73920635e-02,  1.27147064e-02, -1.30708158e-01,\n",
       "        -1.07065275e-01,  7.32832924e-02, -4.98255622e-03,\n",
       "         3.48658562e-02, -9.41211507e-02,  4.64925356e-02,\n",
       "        -4.11566272e-02, -8.94629210e-03, -4.99767959e-02,\n",
       "         4.08198349e-02, -7.15419129e-02, -6.89162388e-02,\n",
       "         2.68710731e-03,  1.64593868e-02,  7.53246769e-02,\n",
       "         4.47396608e-03,  4.79705073e-02,  4.01668064e-02,\n",
       "         4.32492746e-03, -5.56389615e-02,  3.68523933e-02,\n",
       "         1.05471853e-02, -2.70932056e-02,  5.36251767e-03,\n",
       "        -8.80523864e-03,  1.57908797e-02, -4.09168564e-02,\n",
       "        -9.07637365e-03, -1.32181272e-02, -4.66792695e-02,\n",
       "        -6.32639304e-02, -5.41415922e-02,  4.13539708e-02,\n",
       "         3.25380787e-02,  2.09110556e-03, -4.89713401e-02,\n",
       "        -2.09947284e-02,  6.73325136e-02, -6.23695403e-02,\n",
       "         7.19349682e-02,  2.80078538e-02,  3.13196220e-02,\n",
       "         1.79886147e-02, -9.67822503e-03, -9.52877253e-02,\n",
       "        -4.97594774e-02, -4.47373874e-02, -1.89134385e-02,\n",
       "        -1.01038061e-01, -2.88889110e-02,  1.20322648e-02,\n",
       "        -4.61898930e-02,  2.32501198e-02, -8.14763531e-02,\n",
       "        -1.59096885e-02, -3.64434831e-02, -9.75003093e-03,\n",
       "         7.88509101e-02, -6.79893345e-02,  4.19998057e-02,\n",
       "        -3.75554860e-02,  7.75434598e-02,  1.13308765e-02,\n",
       "        -2.18335483e-02, -1.62890583e-01,  6.48548305e-02,\n",
       "        -3.30375740e-04, -3.41617465e-02,  7.97838196e-02,\n",
       "        -9.76420939e-03,  2.20262688e-02, -3.11069414e-02,\n",
       "         6.24508746e-02, -8.22625216e-03,  1.15169557e-02,\n",
       "        -8.39750189e-03, -2.09858604e-02, -4.86614630e-02,\n",
       "         1.08529113e-01,  2.17508171e-02,  3.31273489e-02,\n",
       "         2.29166984e-03, -3.88981737e-02, -6.15731366e-02,\n",
       "         1.02028519e-01, -9.14282650e-02, -3.57937813e-02,\n",
       "        -8.08822736e-02,  5.23546748e-02, -2.44964845e-02,\n",
       "        -2.94793397e-02, -3.94183076e-33, -7.59428591e-02,\n",
       "         3.32121029e-02, -6.34146035e-02,  7.49304593e-02,\n",
       "        -3.46681066e-02, -4.03645597e-02,  2.78703701e-02,\n",
       "         7.23765716e-02, -5.12492396e-02, -6.16185479e-02,\n",
       "        -2.54099630e-02,  1.06843235e-02,  5.24199866e-02,\n",
       "         2.56255381e-02, -7.35802203e-03, -3.24961394e-02,\n",
       "         1.04979509e-02,  2.58088820e-02,  1.71804838e-02,\n",
       "        -3.43446881e-02,  3.21118943e-02,  2.54887417e-02,\n",
       "         5.90757504e-02,  1.38261840e-01,  3.76246171e-03,\n",
       "         2.87543200e-02,  4.21290658e-02, -2.66223364e-02,\n",
       "        -4.83544031e-03, -1.16654281e-02,  6.18439279e-02,\n",
       "        -4.01075520e-02, -1.34430302e-03,  6.75899014e-02,\n",
       "        -2.57254709e-02, -3.04591767e-02, -8.57743919e-02,\n",
       "        -9.14464444e-02, -8.45078658e-03,  5.78894280e-02,\n",
       "         4.28203586e-03,  4.99301963e-02, -3.41489748e-03,\n",
       "         1.71391554e-02, -5.44274738e-03,  1.89362448e-02,\n",
       "        -1.05742477e-02,  7.90739059e-02,  1.12160221e-01,\n",
       "        -1.27898633e-01, -2.52173953e-02, -4.88858894e-02,\n",
       "         3.73480143e-03, -5.60760824e-03, -6.61991090e-02,\n",
       "         3.88846062e-02,  1.45131201e-02, -9.49783903e-03,\n",
       "        -1.71565134e-02,  1.06694633e-02, -3.79765108e-02,\n",
       "         1.71391934e-03,  1.20436586e-02,  2.67772079e-02,\n",
       "        -6.83535403e-03, -3.60232219e-02,  1.35408547e-02,\n",
       "         3.26772779e-02,  8.80121142e-02, -1.59341730e-02,\n",
       "         1.44090187e-02,  4.78173830e-02,  3.71800475e-02,\n",
       "        -3.61296050e-02,  5.51038198e-02,  1.19633466e-01,\n",
       "        -6.17558621e-02,  1.74995251e-02,  8.53521898e-02,\n",
       "         4.74870615e-02,  2.03444641e-02,  9.55881774e-02,\n",
       "         2.92195268e-02, -5.12490645e-02,  1.96279846e-02,\n",
       "         2.97883712e-02, -8.66307244e-02,  2.55555511e-02,\n",
       "        -2.75124386e-02, -2.53588669e-02, -9.79808867e-02,\n",
       "         3.27908285e-02, -2.95709707e-02,  1.26322284e-02,\n",
       "        -8.72520134e-02, -5.04938811e-08, -2.54215691e-02,\n",
       "        -6.16835803e-02,  2.31082402e-02,  5.90529405e-02,\n",
       "        -1.83408353e-02, -4.25844826e-03,  1.00704171e-02,\n",
       "        -5.44798970e-02,  6.75425678e-02,  2.11561117e-02,\n",
       "         3.87928337e-02, -4.60653007e-03, -9.03596282e-02,\n",
       "        -4.58985157e-02, -1.01813041e-01, -5.53502291e-02,\n",
       "        -1.42186694e-02,  9.72575787e-03,  1.67095903e-02,\n",
       "        -3.57148983e-02,  7.49272481e-02,  7.11626746e-03,\n",
       "         2.64299680e-02, -7.40289921e-04,  5.87148331e-02,\n",
       "        -9.51059256e-03, -4.00556661e-02,  1.01173185e-01,\n",
       "        -1.55383609e-02,  7.64303934e-03, -4.71154787e-02,\n",
       "        -3.96279469e-02, -1.57693098e-03,  8.15560967e-02,\n",
       "         8.35611001e-02,  8.14483094e-04, -5.48443012e-03,\n",
       "        -1.03025679e-02,  2.78807292e-03, -3.11611984e-02,\n",
       "        -3.61589566e-02, -5.98119870e-02, -4.13085967e-02,\n",
       "        -1.02322055e-02, -4.68690917e-02, -6.39855266e-02,\n",
       "        -6.90765865e-03,  3.74867804e-02,  5.41809909e-02,\n",
       "        -7.06554204e-02, -8.26162770e-02, -6.22128323e-02,\n",
       "        -3.20851952e-02,  6.23146631e-02,  1.04188800e-01,\n",
       "         8.85772705e-03, -5.95284030e-02,  3.96883450e-02,\n",
       "        -8.12473297e-02, -6.40235795e-03, -7.11003318e-02,\n",
       "        -1.21819481e-01, -1.02312706e-01,  6.55913427e-02]])"
      ]
     },
     "execution_count": 18,
     "metadata": {},
     "output_type": "execute_result"
    }
   ],
   "source": [
    "word_vectors = getado[\"embeddings\"]\n",
    "word_list = getado[\"documents\"]\n",
    "word_vectors"
   ]
  },
  {
   "cell_type": "markdown",
   "id": "bebef744",
   "metadata": {
    "papermill": {
     "duration": 0.020311,
     "end_time": "2024-02-21T15:59:55.063094",
     "exception": false,
     "start_time": "2024-02-21T15:59:55.042783",
     "status": "completed"
    },
    "tags": []
   },
   "source": [
    "Once we have our information inside the Database we can query It, and ask for data that matches our needs. The search is done inside the content of the document, and it dosn't look for the exact word, or phrase. The results will be based on the similarity between the search terms and the content of documents. \n",
    "\n",
    "The metadata is not used in the search, but they can be utilized for filtering or refining the results after the initial search. \n"
   ]
  },
  {
   "cell_type": "markdown",
   "id": "4b453d6c",
   "metadata": {
    "papermill": {
     "duration": 0.020024,
     "end_time": "2024-02-21T15:59:55.103621",
     "exception": false,
     "start_time": "2024-02-21T15:59:55.083597",
     "status": "completed"
    },
    "tags": []
   },
   "source": [
    "## Loading the model and creating the prompt\n",
    "TRANSFORMERS!!\n",
    "Time to use the library **transformers**, the most famous library from [hugging face](https://huggingface.co/) for working with language models. \n",
    "\n",
    "We are importing: \n",
    "* **Autotokenizer**: It is a utility class for tokenizing text inputs that are compatible with various pre-trained language models.\n",
    "* **AutoModelForCasualLLM**: it provides an interface to pre-trained language models specifically designed for language generation tasks using causal language modeling (e.g., GPT models), or the model used in this notebook ***databricks/dolly-v2-3b***.\n",
    "* **pipeline**: provides a simple interface for performing various natural language processing (NLP) tasks, such as text generation (our case) or text classification. \n",
    "\n",
    "The model selected is [dolly-v2-3b](https://huggingface.co/databricks/dolly-v2-3b), the smallest Dolly model. It have 3billion paramaters, more than enough for our sample, and works much better than GPT2. \n",
    "\n",
    "Please, feel free to test [different Models](https://huggingface.co/models?pipeline_tag=text-generation&sort=trending), you need to search for NLP models trained for text-generation. My recomendation is choose \"small\" models, or we will run out of memory in kaggle.  \n"
   ]
  },
  {
   "cell_type": "code",
   "execution_count": 19,
   "id": "92a68bf6",
   "metadata": {
    "papermill": {
     "duration": 55.839281,
     "end_time": "2024-02-21T16:00:50.963197",
     "exception": false,
     "start_time": "2024-02-21T15:59:55.123916",
     "status": "completed"
    },
    "tags": []
   },
   "outputs": [
    {
     "name": "stderr",
     "output_type": "stream",
     "text": [
      "/Users/weemoe/Documents/Ironhack/Week 7/venv/lib/python3.12/site-packages/tqdm/auto.py:21: TqdmWarning: IProgress not found. Please update jupyter and ipywidgets. See https://ipywidgets.readthedocs.io/en/stable/user_install.html\n",
      "  from .autonotebook import tqdm as notebook_tqdm\n",
      "huggingface/tokenizers: The current process just got forked, after parallelism has already been used. Disabling parallelism to avoid deadlocks...\n",
      "To disable this warning, you can either:\n",
      "\t- Avoid using `tokenizers` before the fork if possible\n",
      "\t- Explicitly set the environment variable TOKENIZERS_PARALLELISM=(true | false)\n"
     ]
    }
   ],
   "source": [
    "from transformers import AutoTokenizer, AutoModelForCausalLM, pipeline\n",
    "\n",
    "model_id = \"databricks/dolly-v2-3b\"\n",
    "tokenizer = AutoTokenizer.from_pretrained(model_id)\n",
    "lm_model = AutoModelForCausalLM.from_pretrained(model_id)"
   ]
  },
  {
   "cell_type": "markdown",
   "id": "c03c93f7",
   "metadata": {
    "papermill": {
     "duration": 0.024466,
     "end_time": "2024-02-21T16:00:51.011156",
     "exception": false,
     "start_time": "2024-02-21T16:00:50.98669",
     "status": "completed"
    },
    "tags": []
   },
   "source": [
    "The next step is to initialize the pipeline using the objects created above. \n",
    "\n",
    "The model's response is limited to 256 tokens, for this project I'm not interested in a longer response, but it can easily be extended to whatever length you want.\n",
    "\n",
    "Setting ***device_map*** to ***auto*** we are instructing the model to automaticaly select the most appropiate device: CPU or GPU for processing the text generation.  "
   ]
  },
  {
   "cell_type": "code",
   "execution_count": 21,
   "id": "7660416b",
   "metadata": {
    "papermill": {
     "duration": 0.043207,
     "end_time": "2024-02-21T16:00:51.080338",
     "exception": false,
     "start_time": "2024-02-21T16:00:51.037131",
     "status": "completed"
    },
    "tags": []
   },
   "outputs": [],
   "source": [
    "pipe = pipeline(\n",
    "    \"text-generation\",\n",
    "    model=lm_model,\n",
    "    tokenizer=tokenizer,\n",
    "    max_new_tokens=256,\n",
    "    device=0\n",
    ")"
   ]
  },
  {
   "cell_type": "markdown",
   "id": "4141db50",
   "metadata": {
    "papermill": {
     "duration": 0.022571,
     "end_time": "2024-02-21T16:00:51.125582",
     "exception": false,
     "start_time": "2024-02-21T16:00:51.103011",
     "status": "completed"
    },
    "tags": []
   },
   "source": [
    "## Creating the extended prompt\n",
    "To create the prompt we use the result from query the Vector Database  and the sentence introduced by the user. \n",
    "\n",
    "The prompt have two parts, the **relevant context** that is the information recovered from the database and the **user's question**. \n",
    "\n",
    "We only need to join the two parts together to create the prompt that we are going to send to the model. \n",
    "\n",
    "You can limit the lenght of the context passed to the model, because we can get some Memory problems with one of the datasets that contains a realy large text in the document part. "
   ]
  },
  {
   "cell_type": "code",
   "execution_count": 22,
   "id": "574efc79",
   "metadata": {
    "papermill": {
     "duration": 0.03515,
     "end_time": "2024-02-21T16:00:51.186906",
     "exception": false,
     "start_time": "2024-02-21T16:00:51.151756",
     "status": "completed"
    },
    "tags": []
   },
   "outputs": [
    {
     "data": {
      "text/plain": [
       "'Relevant context: # Consumer electronics giants Hitachi and Matshushita Electric are joining forces to share and develop technology for flat screen televisions.  The tie-up comes as the world\\'s top producers are having to contend with falling prices and intense competition. The two Japanese companies will collaborate in research & development, production, marketing and licensing. They said the agreement would enable the two companies to expand the plasma display TV market globally.  Plasma display panels are used for large, thin TVs which are replacing old-style televisions. The display market for high-definition televisions is split between models using plasma display panels and others - manufactured by the likes of Sony and Samsung - using liquid-crystal displays (LCDs). The deal will enable Hitachi and Matsushita, which makes Panasonic brand products, to develop new technology and improve their competitiveness. Hitachi recently announced a deal to buy plasma display technology from rival Fujitsu in an effort to strengthen its presence in the market.  Separately, Fujitsu announced on Monday that it is quitting the LCD panel market by transferring its operations in the area to Japanese manufacturer Sharp. Sharp will inherit staff, manufacturing facilities and intellectual property from Fujitsu. The plasma panel market has seen rapid consolidation in recent months as the price of consumer electronic goods and components has fallen. Samsung Electronics and Sony are among other companies working together to reduce costs and speed up new product development.  # Budget airline Ryanair has placed an order for 70 Boeing 737-800 planes, in a deal valued at $4bn (£2.1bn) which should lead to 2,500 new Ryanair jobs.  It also has an option for a further 70 aircraft, a move which brings the Ryanair/Boeing order book up to 225 firm orders and options on 193 more. Ryanair said the new planes would help it to cut operating costs further. The carrier reported a drop in quarterly profit earlier this year after it was hit by higher fuel costs. However, when it reported the results, the airline was upbeat about prospects for 2005, despite tough competition in the budget airline market.  Ryanair chairman David Bonderman said that the 737-800 had \"significantly reduced our unit operating costs and allowed us to reduce air fares each year for the last five years\".  \"With this new order and new pricing in place, Ryanair expects that unit operating costs (excluding fuel) will continue to fall each year for the next five years,\" he added. At the end of this year, Ryanair will have taken delivery of about 100 new planes, while the 70 new orders are due for delivery between 2008 and 2012. The airline said that when all these planes have been delivered, it will be able to carry more than 70 million passengers a year, making it Europe\\'s largest airline. About 2,500 new jobs should be created in the next seven years, it added. The order can be seen as good news for Boeing, which in recent years has been overtaken by European plane maker Airbus as the world\\'s biggest-selling plane maker.  # Boeing is to supply Japan Airlines with up to 50 of its forthcoming 7E7 planes in a deal that could be worth as much as $6bn (£3.1bn) for the US giant.  Japan Airlines has made a firm order for 30 of the aircraft, at $120m each, with the option to buy 20 more. Asia\\'s biggest airline joins Japanese rival All Nippon as one of the first carriers to order the mid-size 7E7, which Boeing says is super-economical. Airbus this week announced the first pre-sale of its 7E7 rival - the A350. Boeing\\'s great European competitor is to sell 10 of its forthcoming A350 to Spanish carrier Air Europe, which has the option to buy two more in a deal that could be worth more than $1.8bn. Both the 7E7 and the A350 are being designed to be as fuel-efficient as possible in the 200- to 300-seat sector, and each will be available in both short and long range versions.  Japan Airlines said it had looked at both aircraft before choosing the 7E7, also known as the Dreamliner. \"We chose the 7E7 after carefully considering both it and Airbus\\' aircraft,\" said a Japan Airlines spokesman. \"The 7E7 fits better for what we needed and it could be delivered when we hoped to get it.\" Boeing continues to enjoy a dominance over Airbus in Japan, and Japanese companies are taking key roles in building the 7E7. The first 7E7s will be delivered to Japan Airlines in April 2008. Boeing has set itself a target of getting 200 firm commitments for the 7E7 by the end of this year, and has orders for 56 so far. Airbus hopes to have 50 orders in place for the A350 by mid-2005.  # BMW has forecast sales growth of at least 10% in Asia this year after registering record sales there in 2004.  The luxury carmaker saw strong sales of its three marques - BMW, Mini and Rolls-Royce - in Asia last year after the launch of three new models. The company, which is vying with Mercedes-Benz for the title of leading premium carmaker, is confident about its prospects for the region in 2005. It is launching a revamped version of its 3-Series saloon class next month.  BMW sold nearly 95,000 cars in Asia last year, up 2.6% on 2003.  BMW-brand sales rose 2.3% to 80,600 while sales of Mini models rose 3.6% to 14,800. There was also a significant increase in sales of Rolls-Royces on the continent. BMW sold more than 100 of the iconic models compared with just ten the previous year. The German carmaker is aiming to boost annual sales in Asia to 150,000 by 2008. \"Here in Asia, we consider a double-digit increase in retail on the order of 10 to 15% to be realistic on the basis of current features,\" said Helmut Panke, BMW\\'s group chief executive.  China remains the main area of concern for BMW after sales there fell 16% last year. However, BMW is hopeful of a much better year in 2005 as its direct investment in China begins to pay dividends. The company only began assembling luxury high-powered sedans in China in 2003. 2004 was generally a good year for BMW, which saw revenues from its core car-making operations rise 11%.  # A slump in profitability at luxury car maker Mercedes has prompted a big drop in profits at parent DaimlerChrysler.  The German-US carmaker saw fourth quarter operating profits fall to 785m euros ($1bn) from 2.4bn euros in 2003. Mercedes-Benz\\'s woes - its profits slid to just 20m euros - obscured a strong performance from the Chrysler group whose returns met market expectations. Mercedes faces fierce competition in the luxury car sector from BMW and but hopes to revive its fortunes by 2006.  Mercedes\\' profits over the period compared unfavourably with 2003\\'s 784m euro figure and were well below analyst expectations of 374m euros. For the year as a whole, its operating profits fell 46% to 1.6bn euros. Sales of Mercedes\\' brands fell 2% as demand cooled, while revenues were affected by the weakness of the US dollar.  The carmaker blamed the fall in profits on high launch costs for new models and losses from its Mercedes Smart mini-car range. Mercedes is hoping to increase productivity by 3bn euros, having negotiated 500m euros in annual savings with German workers last year. The firm said it was determined to retain Mercedes\\' position as the world\\'s most successful luxury brand. However, DaimlerChrysler\\'s shares fell 1.5% on the news. \"While all these divisions are doing well the big worries continue to surround Mercedes-Benz,\" Michael Rabb, an analyst with Bank Sal Oppenheim, told Reuters.  In contrast, Chrysler enjoyed a 5% annual increase in unit sales while revenues - calculated in US dollars - rose 10%. The US division - whose marques include Dodge and Jeep - transformed a full year operating loss of 506m euros in 2003 into a 1.4bn euros profit last year.  Overall, DaimlerChrysler saw worldwide vehicle sales rise 8% to 4.7 million in 2004 while total revenues added 4% to 142bn euros. Chrysler\\'s strong performance helped the world\\'s fifth largest carmaker boost net income by 400m euros to 2.5bn euros.  \"The year 2004 shows that our strategy works well - even in such a challenging competitive environment,\" said Jurgen Schrempp, DaimlerChrysler\\'s chairman. DaimlerChrysler took a 475m euro hit in costs stemming from a defects scandal at its joint venture, Japanese subsidiary Fuso. DaimlerChrysler last week agreed a compensation package with partner Mitsubishi Motors which will see it buy out its stake in Fuso. Looking forward, DaimerChrysler\\'s profits are expected to be slightly higher in 2005. However, it is expecting \"significant improvements\" in profitability in 2006 as a result of a major investment in the Mercedes product range.  # Air Deccan has signed a deal to acquire 36 planes from Avions de Transport Regional (ATR).  The value of the deal has not been revealed, because of a confidentiality clause in the agreement. But Air Deccan\\'s managing director Gorur Gopinath has said the price agreed was less than the catalogue price of $17.6m (£9.49m) per plane. Recently, India\\'s first low-cost airline ordered 30 Airbus A320 planes for $1.8bn.  Under the agreement, Air Deccan will buy 15 new ATR 72-500 and lease another 15. ATR will also provide six second hand airplanes. In a statement, ATR has said deliveries of the aircraft will begin in 2005 and will continue over a five-year period.  Mr Gopinath said the planes will connect regional Indian cities. \"After an evaluation of both ATR and Bombardier aircraft, we have chosen the ATR aircraft as we find it most suitable for our operations and for the Indian market for short haul routes.\" Filippo Bagnato, ATR\\'s chief executive, has said that his firm will also work with Air Deccan to create a training centre in Bangalore.  The potential of the Indian budget market has attracted attention from businesses at home and abroad. Air Deccan has said it will base its business model on European firms such as Ireland\\'s Ryanair. Beer magnate Vijay Mallya recently set up Kingfisher Airlines, while UK entrepreneur Richard Branson has said he is keen to start a local operation. India\\'s government has given its backing to cheaper and more accessible air travel.  # India\\'s defence minister has opened the country\\'s Aero India 2005 air show with an invitation for global aerospace firms to outsource jobs to the nation.  Pranab Mukherjee said such companies could take advantage of India\\'s highly skilled workers and low wages. More than 240 civil and military aerospace firms from 31 countries are attending the show. Analysts said India could spend up to $35bn (£18.8bn) in the aviation market over the next 20 years. Giants such Boeing and Airbus - on the civil aviation front - as well as Lockheed Martin and France\\'s Snecma - on the military side - are some of the firms attending the show. \"There is tremendous scope for outsourcing from India in areas where the companies are competitive,\" said Mr Mukerjee. \"We are keen to welcome international collaborations that are in conformity with our national goals.\"  Lockheed said it had signed an agreement with state-owned Hindustan Aeronautics (HAL) to share information on the P-3 Orion maritime surveillance aircraft.  In fact, the Indian Armed Force is considering the buying of used P-3 Orion as well as F-16 fighter jets from Lockheed. The US military industry has show a strong interest to open a link with India, now that relations between the two countries have improved a lot. In fact, it is the first time the US Air Force will attend the air show since sanctions imposed in 1998 after India\\'s nuclear tests were lifted. But the Indian Air Force is also considering proposals from other foreign firms such as France\\'s Dassault Aviation, Sweden\\'s Saab and Russia\\'s Mikoyan-Gurevich. Meanwhile, France\\'s Snecma has also said it plans a joint venture with HAL to make engine parts, with an initial investment of $6.5m.  On the civilian front, Boeing announced a deal with India\\'s HCL Technologies to develop a platform for the flight test system of its 787 Dreamliner aircraft. The US company also said it had agreed with a new Indian budget airline the sale of 10 737-800 planes for $630m. The airline, SpiceJet, will also have the option to acquire 10 more aircraft. Airbus has also recently signed fresh deals with two Indian airlines - Air Deccan and Kingfisher. In addition, the European company has plans to open a training centre in India. Meanwhile, flag carrier Air India is considering to buy 50 new aircraft from either Boeing or Airbus. \"No other market is going to see the growth that will be seen here in the coming years,\" said Dinesh Keskar, senior vice president Boeing.  # US aircraft firm Boeing has unveiled its new long-distance 777 plane, as it tries to regain its position as the industry\\'s leading manufacturer.  The 777-200LR will be capable of flying almost 11,000 miles non-stop, linking cities such as London and Sydney. Boeing, in contrast to European rival Airbus, hopes airlines will want to fly smaller aircraft over longer distances. Airbus, which overtook Boeing as the number one civilian planemaker in 2003, is focusing on so-called super jumbos.  Analysts are divided over which approach is best and say that this latest tussle between Boeing and Airbus may prove to be a defining moment for the airline industry. Boeing plans to offer twin-engine planes that are able to fly direct to many of the world\\'s airports, getting rid of the need for connecting flights.  It is banking on smaller, slimmer planes such as the 777-200LR and its much-anticipated 787 Dreamliner plane, which is set to take to the skies in 2008. The 777-200LR, which had its launch delayed by the 11 September attacks in the US, is the fifth variation of Boeing\\'s twin-aisle 777 plane. The company offically \"rolled-out\" the new 777 in Seattle at 2200 GMT. Better fuel efficiency from engines made by GE and lighter materials mean that the plane can connect almost any two cities worldwide.  \"Boeing has the latest variant in a very successful line of airplanes and there is no doubt it will continue to be very successful,\" said David Learmount, operations and safety editor at industry magazine Flight International. But the 777-200LR \"is a niche player\", Mr Learmount continued, adding that reach was not the only criteria airlines used when picking their aircraft. Mr Learmount pointed out that the 777-200LR has been on the market for a couple of years and only had limited success at attracting orders. He also said that while the plane may be able to fly to Sydney from London in one hit, prevailing winds meant that it would have to stop somewhere on the return journey.  For Airbus, the future is big - it is pinning its hopes on planes that can carry as many as 840 people between large hub airports. From there, passengers would be ferried to their final destinations by smaller planes. Airbus is also keeping its options open and plans to compete in all the main categories of aircraft. It has been producing a rival to Boeing\\'s 777 line for more than a year. \"Airbus is now where Boeing was a few years ago\" with its product range, said Flight International\\'s Mr Learmount.  Both Boeing and Airbus have been taking orders for their new planes. Boeing said it expected to sell about 500 of its 777-200LR planes over the next 20 years. It already has orders from Pakistan International Airlines and EVA of Taiwan. These orders should help underpin the company\\'s profits. Boeing said earnings during the last three months of 2004 dropped by 84% because of costs relating to stopping production of its smallest airliner, the 717, and the cancellation of a US air force 767 tanker contract. Net profit was $186m (£98m; 143m euros) in the quarter, compared with $1.13bn in the same period in 2003.  # Indian airline Jet Airways\\' initial public offering was oversubscribed 16.2 times, bankers said on Friday.  Over 85% of the bids were at the higher end of the price range of 1,050-1,125 rupees ($24-$26). Jet Airways, a low-fare airline, was founded by London-based ex-travel agent Naresh Goya, and controls 45% of the Indian domestic airline market. It sold 20% of its equity or 17.2 million shares in a bid to raise up to $443m (£230.8m). The price at which its shares will begin trading will be agreed over the weekend, bankers said. \"The demand for the IPO was impressive. We believe that over the next two years, the domestic aviation sector promises strong growth, even though fuel prices could be high,\" said Hiten Mehta, manager of merchant banking firm, Fortune Financial Services. India began to open up its domestic airline market - previously dominated by state-run carrier Indian Airlines - in the 1990s. Jet began flying in 1993 and now has competitors including Air Deccan and Air Sahara. Budget carriers Kingfisher Airlines and SpiceJet are planning to launch operations in May this year. Jet has 42 aircraft and runs 271 scheduled flights daily within India. It recently won government permission to fly to London, Singapore and Kuala Lumpur.  # Air Deccan has ordered 30 Airbus A320 planes in a $1.8bn (£931m) deal as India\\'s first low-cost airline expands in the fast-growing domestic market.  Air Deccan was set up last year and wants to lure travellers away from the railway network and pricier rivals. The potential of the Indian market has attracted attention at home and abroad. Beer magnate Vijay Mallya recently set up Kingfisher Airlines, while UK entrepreneur Richard Branson has said he is keen to start a local operation.  The country has a population of more than a billion people and many observers feel that it is underserved by airlines. Recently however, the booming economy has boosted personal spending power and helped swell the middle classes and the corporate sector. India\\'s government has given its backing to cheaper and more accessible air travel. \"The days of flying being a symbol of only maharajas or the rich are over,\" the minister for civil aviation Praful Patel said earlier. Infrastructure is being built to handle the expected increase in demand and on Tuesday, Agence France Presse reported that a group led by Germany\\'s Siemens won the contract to build a private airport near Bangalore. India\\'s airports authority and the state government will own 13% each of the finished transport hub. For its part, Air Deccan, set up by army officer and silk farmer Gorur Gopinath, plans to increase its fleet to 60 aircraft within five years. To help finance the expansion the company may sell a 25% stake to an investor for about $50m. When it was set up the firm offered tickets that were 50% cheaper than other Indian airlines. It said it was basing its business model on European firms such as Ireland\\'s Ryanair. \\n\\n The user\\'s question: Can I buy a Toshiba laptop?'"
      ]
     },
     "execution_count": 22,
     "metadata": {},
     "output_type": "execute_result"
    }
   ],
   "source": [
    "question = \"Can I buy a Toshiba laptop?\"\n",
    "context = \" \".join([f\"#{str(i)}\" for i in results[\"documents\"][0]])\n",
    "#context = context[0:5120]\n",
    "prompt_template = f\"Relevant context: {context}\\n\\n The user's question: {question}\"\n",
    "prompt_template"
   ]
  },
  {
   "cell_type": "markdown",
   "id": "5977f60c",
   "metadata": {
    "papermill": {
     "duration": 0.022946,
     "end_time": "2024-02-21T16:00:51.232628",
     "exception": false,
     "start_time": "2024-02-21T16:00:51.209682",
     "status": "completed"
    },
    "tags": []
   },
   "source": [
    "Now all that remains is to send the prompt to the model and wait for its response!\n"
   ]
  },
  {
   "cell_type": "code",
   "execution_count": null,
   "id": "44b04b71",
   "metadata": {
    "papermill": {
     "duration": 27.680172,
     "end_time": "2024-02-21T16:01:18.936235",
     "exception": false,
     "start_time": "2024-02-21T16:00:51.256063",
     "status": "completed"
    },
    "tags": []
   },
   "outputs": [
    {
     "name": "stderr",
     "output_type": "stream",
     "text": [
      "This is a friendly reminder - the current text generation call will exceed the model's predefined maximum length (2048). Depending on the model, you may observe exceptions, performance degradation, or nothing at all.\n"
     ]
    }
   ],
   "source": [
    "lm_response = pipe(prompt_template)\n",
    "print(lm_response[0][\"generated_text\"])"
   ]
  },
  {
   "cell_type": "code",
   "execution_count": null,
   "id": "d3004791",
   "metadata": {},
   "outputs": [],
   "source": []
  }
 ],
 "metadata": {
  "kaggle": {
   "accelerator": "none",
   "dataSources": [
    {
     "datasetId": 836401,
     "sourceId": 1428159,
     "sourceType": "datasetVersion"
    },
    {
     "datasetId": 3496946,
     "sourceId": 6104553,
     "sourceType": "datasetVersion"
    },
    {
     "datasetId": 1977878,
     "sourceId": 7598394,
     "sourceType": "datasetVersion"
    }
   ],
   "dockerImageVersionId": 30527,
   "isGpuEnabled": false,
   "isInternetEnabled": true,
   "language": "python",
   "sourceType": "notebook"
  },
  "kernelspec": {
   "display_name": "Python 3 (ipykernel)",
   "language": "python",
   "name": "python3"
  },
  "papermill": {
   "default_parameters": {},
   "duration": 489.921972,
   "end_time": "2024-02-21T16:01:21.828095",
   "environment_variables": {},
   "exception": null,
   "input_path": "__notebook__.ipynb",
   "output_path": "__notebook__.ipynb",
   "parameters": {},
   "start_time": "2024-02-21T15:53:11.906123",
   "version": "2.4.0"
  },
  "widgets": {
   "application/vnd.jupyter.widget-state+json": {
    "state": {
     "0249072f0f4d4cf28fb7947cf183fc2f": {
      "model_module": "@jupyter-widgets/base",
      "model_module_version": "1.2.0",
      "model_name": "LayoutModel",
      "state": {
       "_model_module": "@jupyter-widgets/base",
       "_model_module_version": "1.2.0",
       "_model_name": "LayoutModel",
       "_view_count": null,
       "_view_module": "@jupyter-widgets/base",
       "_view_module_version": "1.2.0",
       "_view_name": "LayoutView",
       "align_content": null,
       "align_items": null,
       "align_self": null,
       "border": null,
       "bottom": null,
       "display": null,
       "flex": null,
       "flex_flow": null,
       "grid_area": null,
       "grid_auto_columns": null,
       "grid_auto_flow": null,
       "grid_auto_rows": null,
       "grid_column": null,
       "grid_gap": null,
       "grid_row": null,
       "grid_template_areas": null,
       "grid_template_columns": null,
       "grid_template_rows": null,
       "height": null,
       "justify_content": null,
       "justify_items": null,
       "left": null,
       "margin": null,
       "max_height": null,
       "max_width": null,
       "min_height": null,
       "min_width": null,
       "object_fit": null,
       "object_position": null,
       "order": null,
       "overflow": null,
       "overflow_x": null,
       "overflow_y": null,
       "padding": null,
       "right": null,
       "top": null,
       "visibility": null,
       "width": null
      }
     },
     "071dc48299b84b408748c32846f30a91": {
      "model_module": "@jupyter-widgets/base",
      "model_module_version": "1.2.0",
      "model_name": "LayoutModel",
      "state": {
       "_model_module": "@jupyter-widgets/base",
       "_model_module_version": "1.2.0",
       "_model_name": "LayoutModel",
       "_view_count": null,
       "_view_module": "@jupyter-widgets/base",
       "_view_module_version": "1.2.0",
       "_view_name": "LayoutView",
       "align_content": null,
       "align_items": null,
       "align_self": null,
       "border": null,
       "bottom": null,
       "display": null,
       "flex": null,
       "flex_flow": null,
       "grid_area": null,
       "grid_auto_columns": null,
       "grid_auto_flow": null,
       "grid_auto_rows": null,
       "grid_column": null,
       "grid_gap": null,
       "grid_row": null,
       "grid_template_areas": null,
       "grid_template_columns": null,
       "grid_template_rows": null,
       "height": null,
       "justify_content": null,
       "justify_items": null,
       "left": null,
       "margin": null,
       "max_height": null,
       "max_width": null,
       "min_height": null,
       "min_width": null,
       "object_fit": null,
       "object_position": null,
       "order": null,
       "overflow": null,
       "overflow_x": null,
       "overflow_y": null,
       "padding": null,
       "right": null,
       "top": null,
       "visibility": null,
       "width": null
      }
     },
     "08f67a076c464789be8d398558cd75e6": {
      "model_module": "@jupyter-widgets/controls",
      "model_module_version": "1.5.0",
      "model_name": "DescriptionStyleModel",
      "state": {
       "_model_module": "@jupyter-widgets/controls",
       "_model_module_version": "1.5.0",
       "_model_name": "DescriptionStyleModel",
       "_view_count": null,
       "_view_module": "@jupyter-widgets/base",
       "_view_module_version": "1.2.0",
       "_view_name": "StyleView",
       "description_width": ""
      }
     },
     "09c8e6a194ed4324b327e6a87684e665": {
      "model_module": "@jupyter-widgets/controls",
      "model_module_version": "1.5.0",
      "model_name": "DescriptionStyleModel",
      "state": {
       "_model_module": "@jupyter-widgets/controls",
       "_model_module_version": "1.5.0",
       "_model_name": "DescriptionStyleModel",
       "_view_count": null,
       "_view_module": "@jupyter-widgets/base",
       "_view_module_version": "1.2.0",
       "_view_name": "StyleView",
       "description_width": ""
      }
     },
     "0e64d4ec99324323b3b31f7d45dfcc4f": {
      "model_module": "@jupyter-widgets/base",
      "model_module_version": "1.2.0",
      "model_name": "LayoutModel",
      "state": {
       "_model_module": "@jupyter-widgets/base",
       "_model_module_version": "1.2.0",
       "_model_name": "LayoutModel",
       "_view_count": null,
       "_view_module": "@jupyter-widgets/base",
       "_view_module_version": "1.2.0",
       "_view_name": "LayoutView",
       "align_content": null,
       "align_items": null,
       "align_self": null,
       "border": null,
       "bottom": null,
       "display": null,
       "flex": null,
       "flex_flow": null,
       "grid_area": null,
       "grid_auto_columns": null,
       "grid_auto_flow": null,
       "grid_auto_rows": null,
       "grid_column": null,
       "grid_gap": null,
       "grid_row": null,
       "grid_template_areas": null,
       "grid_template_columns": null,
       "grid_template_rows": null,
       "height": null,
       "justify_content": null,
       "justify_items": null,
       "left": null,
       "margin": null,
       "max_height": null,
       "max_width": null,
       "min_height": null,
       "min_width": null,
       "object_fit": null,
       "object_position": null,
       "order": null,
       "overflow": null,
       "overflow_x": null,
       "overflow_y": null,
       "padding": null,
       "right": null,
       "top": null,
       "visibility": null,
       "width": null
      }
     },
     "0eae314cc5144156a113eb72a4eaf34c": {
      "model_module": "@jupyter-widgets/base",
      "model_module_version": "1.2.0",
      "model_name": "LayoutModel",
      "state": {
       "_model_module": "@jupyter-widgets/base",
       "_model_module_version": "1.2.0",
       "_model_name": "LayoutModel",
       "_view_count": null,
       "_view_module": "@jupyter-widgets/base",
       "_view_module_version": "1.2.0",
       "_view_name": "LayoutView",
       "align_content": null,
       "align_items": null,
       "align_self": null,
       "border": null,
       "bottom": null,
       "display": null,
       "flex": null,
       "flex_flow": null,
       "grid_area": null,
       "grid_auto_columns": null,
       "grid_auto_flow": null,
       "grid_auto_rows": null,
       "grid_column": null,
       "grid_gap": null,
       "grid_row": null,
       "grid_template_areas": null,
       "grid_template_columns": null,
       "grid_template_rows": null,
       "height": null,
       "justify_content": null,
       "justify_items": null,
       "left": null,
       "margin": null,
       "max_height": null,
       "max_width": null,
       "min_height": null,
       "min_width": null,
       "object_fit": null,
       "object_position": null,
       "order": null,
       "overflow": null,
       "overflow_x": null,
       "overflow_y": null,
       "padding": null,
       "right": null,
       "top": null,
       "visibility": null,
       "width": null
      }
     },
     "0f145d5b0b4244459f6596c9c502f8be": {
      "model_module": "@jupyter-widgets/base",
      "model_module_version": "1.2.0",
      "model_name": "LayoutModel",
      "state": {
       "_model_module": "@jupyter-widgets/base",
       "_model_module_version": "1.2.0",
       "_model_name": "LayoutModel",
       "_view_count": null,
       "_view_module": "@jupyter-widgets/base",
       "_view_module_version": "1.2.0",
       "_view_name": "LayoutView",
       "align_content": null,
       "align_items": null,
       "align_self": null,
       "border": null,
       "bottom": null,
       "display": null,
       "flex": null,
       "flex_flow": null,
       "grid_area": null,
       "grid_auto_columns": null,
       "grid_auto_flow": null,
       "grid_auto_rows": null,
       "grid_column": null,
       "grid_gap": null,
       "grid_row": null,
       "grid_template_areas": null,
       "grid_template_columns": null,
       "grid_template_rows": null,
       "height": null,
       "justify_content": null,
       "justify_items": null,
       "left": null,
       "margin": null,
       "max_height": null,
       "max_width": null,
       "min_height": null,
       "min_width": null,
       "object_fit": null,
       "object_position": null,
       "order": null,
       "overflow": null,
       "overflow_x": null,
       "overflow_y": null,
       "padding": null,
       "right": null,
       "top": null,
       "visibility": null,
       "width": null
      }
     },
     "100f3123c54549529f8de368e02d4235": {
      "model_module": "@jupyter-widgets/base",
      "model_module_version": "1.2.0",
      "model_name": "LayoutModel",
      "state": {
       "_model_module": "@jupyter-widgets/base",
       "_model_module_version": "1.2.0",
       "_model_name": "LayoutModel",
       "_view_count": null,
       "_view_module": "@jupyter-widgets/base",
       "_view_module_version": "1.2.0",
       "_view_name": "LayoutView",
       "align_content": null,
       "align_items": null,
       "align_self": null,
       "border": null,
       "bottom": null,
       "display": null,
       "flex": null,
       "flex_flow": null,
       "grid_area": null,
       "grid_auto_columns": null,
       "grid_auto_flow": null,
       "grid_auto_rows": null,
       "grid_column": null,
       "grid_gap": null,
       "grid_row": null,
       "grid_template_areas": null,
       "grid_template_columns": null,
       "grid_template_rows": null,
       "height": null,
       "justify_content": null,
       "justify_items": null,
       "left": null,
       "margin": null,
       "max_height": null,
       "max_width": null,
       "min_height": null,
       "min_width": null,
       "object_fit": null,
       "object_position": null,
       "order": null,
       "overflow": null,
       "overflow_x": null,
       "overflow_y": null,
       "padding": null,
       "right": null,
       "top": null,
       "visibility": null,
       "width": null
      }
     },
     "1f7b107efd5143009e27f4f4685d3f73": {
      "model_module": "@jupyter-widgets/base",
      "model_module_version": "1.2.0",
      "model_name": "LayoutModel",
      "state": {
       "_model_module": "@jupyter-widgets/base",
       "_model_module_version": "1.2.0",
       "_model_name": "LayoutModel",
       "_view_count": null,
       "_view_module": "@jupyter-widgets/base",
       "_view_module_version": "1.2.0",
       "_view_name": "LayoutView",
       "align_content": null,
       "align_items": null,
       "align_self": null,
       "border": null,
       "bottom": null,
       "display": null,
       "flex": null,
       "flex_flow": null,
       "grid_area": null,
       "grid_auto_columns": null,
       "grid_auto_flow": null,
       "grid_auto_rows": null,
       "grid_column": null,
       "grid_gap": null,
       "grid_row": null,
       "grid_template_areas": null,
       "grid_template_columns": null,
       "grid_template_rows": null,
       "height": null,
       "justify_content": null,
       "justify_items": null,
       "left": null,
       "margin": null,
       "max_height": null,
       "max_width": null,
       "min_height": null,
       "min_width": null,
       "object_fit": null,
       "object_position": null,
       "order": null,
       "overflow": null,
       "overflow_x": null,
       "overflow_y": null,
       "padding": null,
       "right": null,
       "top": null,
       "visibility": null,
       "width": null
      }
     },
     "20f9dafca84449cf9a1665899463dc44": {
      "model_module": "@jupyter-widgets/controls",
      "model_module_version": "1.5.0",
      "model_name": "HTMLModel",
      "state": {
       "_dom_classes": [],
       "_model_module": "@jupyter-widgets/controls",
       "_model_module_version": "1.5.0",
       "_model_name": "HTMLModel",
       "_view_count": null,
       "_view_module": "@jupyter-widgets/controls",
       "_view_module_version": "1.5.0",
       "_view_name": "HTMLView",
       "description": "",
       "description_tooltip": null,
       "layout": "IPY_MODEL_78046bc935e741c59b0444927ded134c",
       "placeholder": "​",
       "style": "IPY_MODEL_982d8ef8be744f928b21c6437b9498da",
       "value": "special_tokens_map.json: 100%"
      }
     },
     "297bea8d91534269a0c4d867460a7422": {
      "model_module": "@jupyter-widgets/base",
      "model_module_version": "1.2.0",
      "model_name": "LayoutModel",
      "state": {
       "_model_module": "@jupyter-widgets/base",
       "_model_module_version": "1.2.0",
       "_model_name": "LayoutModel",
       "_view_count": null,
       "_view_module": "@jupyter-widgets/base",
       "_view_module_version": "1.2.0",
       "_view_name": "LayoutView",
       "align_content": null,
       "align_items": null,
       "align_self": null,
       "border": null,
       "bottom": null,
       "display": null,
       "flex": null,
       "flex_flow": null,
       "grid_area": null,
       "grid_auto_columns": null,
       "grid_auto_flow": null,
       "grid_auto_rows": null,
       "grid_column": null,
       "grid_gap": null,
       "grid_row": null,
       "grid_template_areas": null,
       "grid_template_columns": null,
       "grid_template_rows": null,
       "height": null,
       "justify_content": null,
       "justify_items": null,
       "left": null,
       "margin": null,
       "max_height": null,
       "max_width": null,
       "min_height": null,
       "min_width": null,
       "object_fit": null,
       "object_position": null,
       "order": null,
       "overflow": null,
       "overflow_x": null,
       "overflow_y": null,
       "padding": null,
       "right": null,
       "top": null,
       "visibility": null,
       "width": null
      }
     },
     "2f0994ffb8a54fbbbe3a418dbc91971f": {
      "model_module": "@jupyter-widgets/controls",
      "model_module_version": "1.5.0",
      "model_name": "HTMLModel",
      "state": {
       "_dom_classes": [],
       "_model_module": "@jupyter-widgets/controls",
       "_model_module_version": "1.5.0",
       "_model_name": "HTMLModel",
       "_view_count": null,
       "_view_module": "@jupyter-widgets/controls",
       "_view_module_version": "1.5.0",
       "_view_name": "HTMLView",
       "description": "",
       "description_tooltip": null,
       "layout": "IPY_MODEL_0e64d4ec99324323b3b31f7d45dfcc4f",
       "placeholder": "​",
       "style": "IPY_MODEL_8991be26abf54b5caf8731fca42a8089",
       "value": " 450/450 [00:00&lt;00:00, 23.2kB/s]"
      }
     },
     "2ff3db9b7c8e4371a9b903ce362061fa": {
      "model_module": "@jupyter-widgets/controls",
      "model_module_version": "1.5.0",
      "model_name": "HTMLModel",
      "state": {
       "_dom_classes": [],
       "_model_module": "@jupyter-widgets/controls",
       "_model_module_version": "1.5.0",
       "_model_name": "HTMLModel",
       "_view_count": null,
       "_view_module": "@jupyter-widgets/controls",
       "_view_module_version": "1.5.0",
       "_view_name": "HTMLView",
       "description": "",
       "description_tooltip": null,
       "layout": "IPY_MODEL_3ede74746904448ca228a8befe4a4b65",
       "placeholder": "​",
       "style": "IPY_MODEL_08f67a076c464789be8d398558cd75e6",
       "value": " 819/819 [00:00&lt;00:00, 50.6kB/s]"
      }
     },
     "3118fe61249c4f98ab8d4b552f361f5e": {
      "model_module": "@jupyter-widgets/controls",
      "model_module_version": "1.5.0",
      "model_name": "FloatProgressModel",
      "state": {
       "_dom_classes": [],
       "_model_module": "@jupyter-widgets/controls",
       "_model_module_version": "1.5.0",
       "_model_name": "FloatProgressModel",
       "_view_count": null,
       "_view_module": "@jupyter-widgets/controls",
       "_view_module_version": "1.5.0",
       "_view_name": "ProgressView",
       "bar_style": "success",
       "description": "",
       "description_tooltip": null,
       "layout": "IPY_MODEL_c4e8037a97b8409089cc35ce37527074",
       "max": 228,
       "min": 0,
       "orientation": "horizontal",
       "style": "IPY_MODEL_d8f20332768c4410acca9acdd4637c29",
       "value": 228
      }
     },
     "326f9b73a7014e2fb29cd9fe1f5c6f1a": {
      "model_module": "@jupyter-widgets/controls",
      "model_module_version": "1.5.0",
      "model_name": "FloatProgressModel",
      "state": {
       "_dom_classes": [],
       "_model_module": "@jupyter-widgets/controls",
       "_model_module_version": "1.5.0",
       "_model_name": "FloatProgressModel",
       "_view_count": null,
       "_view_module": "@jupyter-widgets/controls",
       "_view_module_version": "1.5.0",
       "_view_name": "ProgressView",
       "bar_style": "success",
       "description": "",
       "description_tooltip": null,
       "layout": "IPY_MODEL_297bea8d91534269a0c4d867460a7422",
       "max": 5684548185,
       "min": 0,
       "orientation": "horizontal",
       "style": "IPY_MODEL_b8d559bb30e94d82b46f7b58a0c024b4",
       "value": 5684548185
      }
     },
     "339e4065be8b4c95a920fb48731746f0": {
      "model_module": "@jupyter-widgets/base",
      "model_module_version": "1.2.0",
      "model_name": "LayoutModel",
      "state": {
       "_model_module": "@jupyter-widgets/base",
       "_model_module_version": "1.2.0",
       "_model_name": "LayoutModel",
       "_view_count": null,
       "_view_module": "@jupyter-widgets/base",
       "_view_module_version": "1.2.0",
       "_view_name": "LayoutView",
       "align_content": null,
       "align_items": null,
       "align_self": null,
       "border": null,
       "bottom": null,
       "display": null,
       "flex": null,
       "flex_flow": null,
       "grid_area": null,
       "grid_auto_columns": null,
       "grid_auto_flow": null,
       "grid_auto_rows": null,
       "grid_column": null,
       "grid_gap": null,
       "grid_row": null,
       "grid_template_areas": null,
       "grid_template_columns": null,
       "grid_template_rows": null,
       "height": null,
       "justify_content": null,
       "justify_items": null,
       "left": null,
       "margin": null,
       "max_height": null,
       "max_width": null,
       "min_height": null,
       "min_width": null,
       "object_fit": null,
       "object_position": null,
       "order": null,
       "overflow": null,
       "overflow_x": null,
       "overflow_y": null,
       "padding": null,
       "right": null,
       "top": null,
       "visibility": null,
       "width": null
      }
     },
     "33f0869f1a984e73adcaa0c7aa3c57ec": {
      "model_module": "@jupyter-widgets/controls",
      "model_module_version": "1.5.0",
      "model_name": "FloatProgressModel",
      "state": {
       "_dom_classes": [],
       "_model_module": "@jupyter-widgets/controls",
       "_model_module_version": "1.5.0",
       "_model_name": "FloatProgressModel",
       "_view_count": null,
       "_view_module": "@jupyter-widgets/controls",
       "_view_module_version": "1.5.0",
       "_view_name": "ProgressView",
       "bar_style": "success",
       "description": "",
       "description_tooltip": null,
       "layout": "IPY_MODEL_0249072f0f4d4cf28fb7947cf183fc2f",
       "max": 819,
       "min": 0,
       "orientation": "horizontal",
       "style": "IPY_MODEL_921feca6cb0e4a40b8e6cd98966b10db",
       "value": 819
      }
     },
     "3405eeefcfbe43ecb6b64b350ff9f8d4": {
      "model_module": "@jupyter-widgets/controls",
      "model_module_version": "1.5.0",
      "model_name": "HBoxModel",
      "state": {
       "_dom_classes": [],
       "_model_module": "@jupyter-widgets/controls",
       "_model_module_version": "1.5.0",
       "_model_name": "HBoxModel",
       "_view_count": null,
       "_view_module": "@jupyter-widgets/controls",
       "_view_module_version": "1.5.0",
       "_view_name": "HBoxView",
       "box_style": "",
       "children": [
        "IPY_MODEL_20f9dafca84449cf9a1665899463dc44",
        "IPY_MODEL_3118fe61249c4f98ab8d4b552f361f5e",
        "IPY_MODEL_d0cd93a6e91e4d66acaa8bf7a2cb8271"
       ],
       "layout": "IPY_MODEL_de1a013ad9be46dfbf0a53ee19a29eb4"
      }
     },
     "38e262fc922f4643887db999b462d341": {
      "model_module": "@jupyter-widgets/controls",
      "model_module_version": "1.5.0",
      "model_name": "DescriptionStyleModel",
      "state": {
       "_model_module": "@jupyter-widgets/controls",
       "_model_module_version": "1.5.0",
       "_model_name": "DescriptionStyleModel",
       "_view_count": null,
       "_view_module": "@jupyter-widgets/base",
       "_view_module_version": "1.2.0",
       "_view_name": "StyleView",
       "description_width": ""
      }
     },
     "3ede74746904448ca228a8befe4a4b65": {
      "model_module": "@jupyter-widgets/base",
      "model_module_version": "1.2.0",
      "model_name": "LayoutModel",
      "state": {
       "_model_module": "@jupyter-widgets/base",
       "_model_module_version": "1.2.0",
       "_model_name": "LayoutModel",
       "_view_count": null,
       "_view_module": "@jupyter-widgets/base",
       "_view_module_version": "1.2.0",
       "_view_name": "LayoutView",
       "align_content": null,
       "align_items": null,
       "align_self": null,
       "border": null,
       "bottom": null,
       "display": null,
       "flex": null,
       "flex_flow": null,
       "grid_area": null,
       "grid_auto_columns": null,
       "grid_auto_flow": null,
       "grid_auto_rows": null,
       "grid_column": null,
       "grid_gap": null,
       "grid_row": null,
       "grid_template_areas": null,
       "grid_template_columns": null,
       "grid_template_rows": null,
       "height": null,
       "justify_content": null,
       "justify_items": null,
       "left": null,
       "margin": null,
       "max_height": null,
       "max_width": null,
       "min_height": null,
       "min_width": null,
       "object_fit": null,
       "object_position": null,
       "order": null,
       "overflow": null,
       "overflow_x": null,
       "overflow_y": null,
       "padding": null,
       "right": null,
       "top": null,
       "visibility": null,
       "width": null
      }
     },
     "40d353ff3e23425baf4a46e383004641": {
      "model_module": "@jupyter-widgets/controls",
      "model_module_version": "1.5.0",
      "model_name": "DescriptionStyleModel",
      "state": {
       "_model_module": "@jupyter-widgets/controls",
       "_model_module_version": "1.5.0",
       "_model_name": "DescriptionStyleModel",
       "_view_count": null,
       "_view_module": "@jupyter-widgets/base",
       "_view_module_version": "1.2.0",
       "_view_name": "StyleView",
       "description_width": ""
      }
     },
     "49f2a0d9255d4a3caeec87e69323e11e": {
      "model_module": "@jupyter-widgets/controls",
      "model_module_version": "1.5.0",
      "model_name": "HTMLModel",
      "state": {
       "_dom_classes": [],
       "_model_module": "@jupyter-widgets/controls",
       "_model_module_version": "1.5.0",
       "_model_name": "HTMLModel",
       "_view_count": null,
       "_view_module": "@jupyter-widgets/controls",
       "_view_module_version": "1.5.0",
       "_view_name": "HTMLView",
       "description": "",
       "description_tooltip": null,
       "layout": "IPY_MODEL_f59d36bae75647b2a0a92f444ff760cb",
       "placeholder": "​",
       "style": "IPY_MODEL_718a693672a84637a77a8ad97a30801a",
       "value": "tokenizer.json: 100%"
      }
     },
     "5dd55f4a68ea442bb55ca3ec74c13a4e": {
      "model_module": "@jupyter-widgets/controls",
      "model_module_version": "1.5.0",
      "model_name": "DescriptionStyleModel",
      "state": {
       "_model_module": "@jupyter-widgets/controls",
       "_model_module_version": "1.5.0",
       "_model_name": "DescriptionStyleModel",
       "_view_count": null,
       "_view_module": "@jupyter-widgets/base",
       "_view_module_version": "1.2.0",
       "_view_name": "StyleView",
       "description_width": ""
      }
     },
     "6825870d2df64e4a99f90d7975d6eb71": {
      "model_module": "@jupyter-widgets/base",
      "model_module_version": "1.2.0",
      "model_name": "LayoutModel",
      "state": {
       "_model_module": "@jupyter-widgets/base",
       "_model_module_version": "1.2.0",
       "_model_name": "LayoutModel",
       "_view_count": null,
       "_view_module": "@jupyter-widgets/base",
       "_view_module_version": "1.2.0",
       "_view_name": "LayoutView",
       "align_content": null,
       "align_items": null,
       "align_self": null,
       "border": null,
       "bottom": null,
       "display": null,
       "flex": null,
       "flex_flow": null,
       "grid_area": null,
       "grid_auto_columns": null,
       "grid_auto_flow": null,
       "grid_auto_rows": null,
       "grid_column": null,
       "grid_gap": null,
       "grid_row": null,
       "grid_template_areas": null,
       "grid_template_columns": null,
       "grid_template_rows": null,
       "height": null,
       "justify_content": null,
       "justify_items": null,
       "left": null,
       "margin": null,
       "max_height": null,
       "max_width": null,
       "min_height": null,
       "min_width": null,
       "object_fit": null,
       "object_position": null,
       "order": null,
       "overflow": null,
       "overflow_x": null,
       "overflow_y": null,
       "padding": null,
       "right": null,
       "top": null,
       "visibility": null,
       "width": null
      }
     },
     "718a693672a84637a77a8ad97a30801a": {
      "model_module": "@jupyter-widgets/controls",
      "model_module_version": "1.5.0",
      "model_name": "DescriptionStyleModel",
      "state": {
       "_model_module": "@jupyter-widgets/controls",
       "_model_module_version": "1.5.0",
       "_model_name": "DescriptionStyleModel",
       "_view_count": null,
       "_view_module": "@jupyter-widgets/base",
       "_view_module_version": "1.2.0",
       "_view_name": "StyleView",
       "description_width": ""
      }
     },
     "78046bc935e741c59b0444927ded134c": {
      "model_module": "@jupyter-widgets/base",
      "model_module_version": "1.2.0",
      "model_name": "LayoutModel",
      "state": {
       "_model_module": "@jupyter-widgets/base",
       "_model_module_version": "1.2.0",
       "_model_name": "LayoutModel",
       "_view_count": null,
       "_view_module": "@jupyter-widgets/base",
       "_view_module_version": "1.2.0",
       "_view_name": "LayoutView",
       "align_content": null,
       "align_items": null,
       "align_self": null,
       "border": null,
       "bottom": null,
       "display": null,
       "flex": null,
       "flex_flow": null,
       "grid_area": null,
       "grid_auto_columns": null,
       "grid_auto_flow": null,
       "grid_auto_rows": null,
       "grid_column": null,
       "grid_gap": null,
       "grid_row": null,
       "grid_template_areas": null,
       "grid_template_columns": null,
       "grid_template_rows": null,
       "height": null,
       "justify_content": null,
       "justify_items": null,
       "left": null,
       "margin": null,
       "max_height": null,
       "max_width": null,
       "min_height": null,
       "min_width": null,
       "object_fit": null,
       "object_position": null,
       "order": null,
       "overflow": null,
       "overflow_x": null,
       "overflow_y": null,
       "padding": null,
       "right": null,
       "top": null,
       "visibility": null,
       "width": null
      }
     },
     "78a21c021d134602b778dc53bfb172ea": {
      "model_module": "@jupyter-widgets/controls",
      "model_module_version": "1.5.0",
      "model_name": "HTMLModel",
      "state": {
       "_dom_classes": [],
       "_model_module": "@jupyter-widgets/controls",
       "_model_module_version": "1.5.0",
       "_model_name": "HTMLModel",
       "_view_count": null,
       "_view_module": "@jupyter-widgets/controls",
       "_view_module_version": "1.5.0",
       "_view_name": "HTMLView",
       "description": "",
       "description_tooltip": null,
       "layout": "IPY_MODEL_071dc48299b84b408748c32846f30a91",
       "placeholder": "​",
       "style": "IPY_MODEL_09c8e6a194ed4324b327e6a87684e665",
       "value": "pytorch_model.bin: 100%"
      }
     },
     "8136d0dafa85458f9c2035f20696b46a": {
      "model_module": "@jupyter-widgets/controls",
      "model_module_version": "1.5.0",
      "model_name": "ProgressStyleModel",
      "state": {
       "_model_module": "@jupyter-widgets/controls",
       "_model_module_version": "1.5.0",
       "_model_name": "ProgressStyleModel",
       "_view_count": null,
       "_view_module": "@jupyter-widgets/base",
       "_view_module_version": "1.2.0",
       "_view_name": "StyleView",
       "bar_color": null,
       "description_width": ""
      }
     },
     "833bbebf57994a258c44e30179f001f0": {
      "model_module": "@jupyter-widgets/controls",
      "model_module_version": "1.5.0",
      "model_name": "FloatProgressModel",
      "state": {
       "_dom_classes": [],
       "_model_module": "@jupyter-widgets/controls",
       "_model_module_version": "1.5.0",
       "_model_name": "FloatProgressModel",
       "_view_count": null,
       "_view_module": "@jupyter-widgets/controls",
       "_view_module_version": "1.5.0",
       "_view_name": "ProgressView",
       "bar_style": "success",
       "description": "",
       "description_tooltip": null,
       "layout": "IPY_MODEL_1f7b107efd5143009e27f4f4685d3f73",
       "max": 2114274,
       "min": 0,
       "orientation": "horizontal",
       "style": "IPY_MODEL_9e71ef2f2ceb4a938bd2f9316ed65ce8",
       "value": 2114274
      }
     },
     "8991be26abf54b5caf8731fca42a8089": {
      "model_module": "@jupyter-widgets/controls",
      "model_module_version": "1.5.0",
      "model_name": "DescriptionStyleModel",
      "state": {
       "_model_module": "@jupyter-widgets/controls",
       "_model_module_version": "1.5.0",
       "_model_name": "DescriptionStyleModel",
       "_view_count": null,
       "_view_module": "@jupyter-widgets/base",
       "_view_module_version": "1.2.0",
       "_view_name": "StyleView",
       "description_width": ""
      }
     },
     "8f80875c8064427eb49ea59c78c2bdea": {
      "model_module": "@jupyter-widgets/controls",
      "model_module_version": "1.5.0",
      "model_name": "HBoxModel",
      "state": {
       "_dom_classes": [],
       "_model_module": "@jupyter-widgets/controls",
       "_model_module_version": "1.5.0",
       "_model_name": "HBoxModel",
       "_view_count": null,
       "_view_module": "@jupyter-widgets/controls",
       "_view_module_version": "1.5.0",
       "_view_name": "HBoxView",
       "box_style": "",
       "children": [
        "IPY_MODEL_a9ba697537434994834ad62d4f83d3ca",
        "IPY_MODEL_d577109efa6a4113adb8557757e57fb8",
        "IPY_MODEL_2f0994ffb8a54fbbbe3a418dbc91971f"
       ],
       "layout": "IPY_MODEL_daa56ebc4084424cb67a62810fee7d3a"
      }
     },
     "921feca6cb0e4a40b8e6cd98966b10db": {
      "model_module": "@jupyter-widgets/controls",
      "model_module_version": "1.5.0",
      "model_name": "ProgressStyleModel",
      "state": {
       "_model_module": "@jupyter-widgets/controls",
       "_model_module_version": "1.5.0",
       "_model_name": "ProgressStyleModel",
       "_view_count": null,
       "_view_module": "@jupyter-widgets/base",
       "_view_module_version": "1.2.0",
       "_view_name": "StyleView",
       "bar_color": null,
       "description_width": ""
      }
     },
     "982d8ef8be744f928b21c6437b9498da": {
      "model_module": "@jupyter-widgets/controls",
      "model_module_version": "1.5.0",
      "model_name": "DescriptionStyleModel",
      "state": {
       "_model_module": "@jupyter-widgets/controls",
       "_model_module_version": "1.5.0",
       "_model_name": "DescriptionStyleModel",
       "_view_count": null,
       "_view_module": "@jupyter-widgets/base",
       "_view_module_version": "1.2.0",
       "_view_name": "StyleView",
       "description_width": ""
      }
     },
     "9e71ef2f2ceb4a938bd2f9316ed65ce8": {
      "model_module": "@jupyter-widgets/controls",
      "model_module_version": "1.5.0",
      "model_name": "ProgressStyleModel",
      "state": {
       "_model_module": "@jupyter-widgets/controls",
       "_model_module_version": "1.5.0",
       "_model_name": "ProgressStyleModel",
       "_view_count": null,
       "_view_module": "@jupyter-widgets/base",
       "_view_module_version": "1.2.0",
       "_view_name": "StyleView",
       "bar_color": null,
       "description_width": ""
      }
     },
     "a261d20add5749288618865ccfad3cd8": {
      "model_module": "@jupyter-widgets/base",
      "model_module_version": "1.2.0",
      "model_name": "LayoutModel",
      "state": {
       "_model_module": "@jupyter-widgets/base",
       "_model_module_version": "1.2.0",
       "_model_name": "LayoutModel",
       "_view_count": null,
       "_view_module": "@jupyter-widgets/base",
       "_view_module_version": "1.2.0",
       "_view_name": "LayoutView",
       "align_content": null,
       "align_items": null,
       "align_self": null,
       "border": null,
       "bottom": null,
       "display": null,
       "flex": null,
       "flex_flow": null,
       "grid_area": null,
       "grid_auto_columns": null,
       "grid_auto_flow": null,
       "grid_auto_rows": null,
       "grid_column": null,
       "grid_gap": null,
       "grid_row": null,
       "grid_template_areas": null,
       "grid_template_columns": null,
       "grid_template_rows": null,
       "height": null,
       "justify_content": null,
       "justify_items": null,
       "left": null,
       "margin": null,
       "max_height": null,
       "max_width": null,
       "min_height": null,
       "min_width": null,
       "object_fit": null,
       "object_position": null,
       "order": null,
       "overflow": null,
       "overflow_x": null,
       "overflow_y": null,
       "padding": null,
       "right": null,
       "top": null,
       "visibility": null,
       "width": null
      }
     },
     "a49b72f0dce841dfa283b6627b331637": {
      "model_module": "@jupyter-widgets/controls",
      "model_module_version": "1.5.0",
      "model_name": "HBoxModel",
      "state": {
       "_dom_classes": [],
       "_model_module": "@jupyter-widgets/controls",
       "_model_module_version": "1.5.0",
       "_model_name": "HBoxModel",
       "_view_count": null,
       "_view_module": "@jupyter-widgets/controls",
       "_view_module_version": "1.5.0",
       "_view_name": "HBoxView",
       "box_style": "",
       "children": [
        "IPY_MODEL_e612cd0070d54d54a55644fdd4ed80ea",
        "IPY_MODEL_33f0869f1a984e73adcaa0c7aa3c57ec",
        "IPY_MODEL_2ff3db9b7c8e4371a9b903ce362061fa"
       ],
       "layout": "IPY_MODEL_e667e61c3b9547da98d28e8f894ad051"
      }
     },
     "a9ba697537434994834ad62d4f83d3ca": {
      "model_module": "@jupyter-widgets/controls",
      "model_module_version": "1.5.0",
      "model_name": "HTMLModel",
      "state": {
       "_dom_classes": [],
       "_model_module": "@jupyter-widgets/controls",
       "_model_module_version": "1.5.0",
       "_model_name": "HTMLModel",
       "_view_count": null,
       "_view_module": "@jupyter-widgets/controls",
       "_view_module_version": "1.5.0",
       "_view_name": "HTMLView",
       "description": "",
       "description_tooltip": null,
       "layout": "IPY_MODEL_339e4065be8b4c95a920fb48731746f0",
       "placeholder": "​",
       "style": "IPY_MODEL_bcf374daf9d04159b576e522aa3e034a",
       "value": "tokenizer_config.json: 100%"
      }
     },
     "b08805b629a54d939c18e69e11d51a30": {
      "model_module": "@jupyter-widgets/controls",
      "model_module_version": "1.5.0",
      "model_name": "DescriptionStyleModel",
      "state": {
       "_model_module": "@jupyter-widgets/controls",
       "_model_module_version": "1.5.0",
       "_model_name": "DescriptionStyleModel",
       "_view_count": null,
       "_view_module": "@jupyter-widgets/base",
       "_view_module_version": "1.2.0",
       "_view_name": "StyleView",
       "description_width": ""
      }
     },
     "b8d559bb30e94d82b46f7b58a0c024b4": {
      "model_module": "@jupyter-widgets/controls",
      "model_module_version": "1.5.0",
      "model_name": "ProgressStyleModel",
      "state": {
       "_model_module": "@jupyter-widgets/controls",
       "_model_module_version": "1.5.0",
       "_model_name": "ProgressStyleModel",
       "_view_count": null,
       "_view_module": "@jupyter-widgets/base",
       "_view_module_version": "1.2.0",
       "_view_name": "StyleView",
       "bar_color": null,
       "description_width": ""
      }
     },
     "bcf374daf9d04159b576e522aa3e034a": {
      "model_module": "@jupyter-widgets/controls",
      "model_module_version": "1.5.0",
      "model_name": "DescriptionStyleModel",
      "state": {
       "_model_module": "@jupyter-widgets/controls",
       "_model_module_version": "1.5.0",
       "_model_name": "DescriptionStyleModel",
       "_view_count": null,
       "_view_module": "@jupyter-widgets/base",
       "_view_module_version": "1.2.0",
       "_view_name": "StyleView",
       "description_width": ""
      }
     },
     "c4e8037a97b8409089cc35ce37527074": {
      "model_module": "@jupyter-widgets/base",
      "model_module_version": "1.2.0",
      "model_name": "LayoutModel",
      "state": {
       "_model_module": "@jupyter-widgets/base",
       "_model_module_version": "1.2.0",
       "_model_name": "LayoutModel",
       "_view_count": null,
       "_view_module": "@jupyter-widgets/base",
       "_view_module_version": "1.2.0",
       "_view_name": "LayoutView",
       "align_content": null,
       "align_items": null,
       "align_self": null,
       "border": null,
       "bottom": null,
       "display": null,
       "flex": null,
       "flex_flow": null,
       "grid_area": null,
       "grid_auto_columns": null,
       "grid_auto_flow": null,
       "grid_auto_rows": null,
       "grid_column": null,
       "grid_gap": null,
       "grid_row": null,
       "grid_template_areas": null,
       "grid_template_columns": null,
       "grid_template_rows": null,
       "height": null,
       "justify_content": null,
       "justify_items": null,
       "left": null,
       "margin": null,
       "max_height": null,
       "max_width": null,
       "min_height": null,
       "min_width": null,
       "object_fit": null,
       "object_position": null,
       "order": null,
       "overflow": null,
       "overflow_x": null,
       "overflow_y": null,
       "padding": null,
       "right": null,
       "top": null,
       "visibility": null,
       "width": null
      }
     },
     "c6f4a753acb14444b135012774856e3d": {
      "model_module": "@jupyter-widgets/controls",
      "model_module_version": "1.5.0",
      "model_name": "HBoxModel",
      "state": {
       "_dom_classes": [],
       "_model_module": "@jupyter-widgets/controls",
       "_model_module_version": "1.5.0",
       "_model_name": "HBoxModel",
       "_view_count": null,
       "_view_module": "@jupyter-widgets/controls",
       "_view_module_version": "1.5.0",
       "_view_name": "HBoxView",
       "box_style": "",
       "children": [
        "IPY_MODEL_49f2a0d9255d4a3caeec87e69323e11e",
        "IPY_MODEL_833bbebf57994a258c44e30179f001f0",
        "IPY_MODEL_d3f505b52a7342cfa7044d08e0f7916d"
       ],
       "layout": "IPY_MODEL_100f3123c54549529f8de368e02d4235"
      }
     },
     "d0cd93a6e91e4d66acaa8bf7a2cb8271": {
      "model_module": "@jupyter-widgets/controls",
      "model_module_version": "1.5.0",
      "model_name": "HTMLModel",
      "state": {
       "_dom_classes": [],
       "_model_module": "@jupyter-widgets/controls",
       "_model_module_version": "1.5.0",
       "_model_name": "HTMLModel",
       "_view_count": null,
       "_view_module": "@jupyter-widgets/controls",
       "_view_module_version": "1.5.0",
       "_view_name": "HTMLView",
       "description": "",
       "description_tooltip": null,
       "layout": "IPY_MODEL_0eae314cc5144156a113eb72a4eaf34c",
       "placeholder": "​",
       "style": "IPY_MODEL_38e262fc922f4643887db999b462d341",
       "value": " 228/228 [00:00&lt;00:00, 13.8kB/s]"
      }
     },
     "d3f505b52a7342cfa7044d08e0f7916d": {
      "model_module": "@jupyter-widgets/controls",
      "model_module_version": "1.5.0",
      "model_name": "HTMLModel",
      "state": {
       "_dom_classes": [],
       "_model_module": "@jupyter-widgets/controls",
       "_model_module_version": "1.5.0",
       "_model_name": "HTMLModel",
       "_view_count": null,
       "_view_module": "@jupyter-widgets/controls",
       "_view_module_version": "1.5.0",
       "_view_name": "HTMLView",
       "description": "",
       "description_tooltip": null,
       "layout": "IPY_MODEL_0f145d5b0b4244459f6596c9c502f8be",
       "placeholder": "​",
       "style": "IPY_MODEL_5dd55f4a68ea442bb55ca3ec74c13a4e",
       "value": " 2.11M/2.11M [00:00&lt;00:00, 11.5MB/s]"
      }
     },
     "d577109efa6a4113adb8557757e57fb8": {
      "model_module": "@jupyter-widgets/controls",
      "model_module_version": "1.5.0",
      "model_name": "FloatProgressModel",
      "state": {
       "_dom_classes": [],
       "_model_module": "@jupyter-widgets/controls",
       "_model_module_version": "1.5.0",
       "_model_name": "FloatProgressModel",
       "_view_count": null,
       "_view_module": "@jupyter-widgets/controls",
       "_view_module_version": "1.5.0",
       "_view_name": "ProgressView",
       "bar_style": "success",
       "description": "",
       "description_tooltip": null,
       "layout": "IPY_MODEL_dfcf5d456d3e4c01b7d66318e251806a",
       "max": 450,
       "min": 0,
       "orientation": "horizontal",
       "style": "IPY_MODEL_8136d0dafa85458f9c2035f20696b46a",
       "value": 450
      }
     },
     "d8f20332768c4410acca9acdd4637c29": {
      "model_module": "@jupyter-widgets/controls",
      "model_module_version": "1.5.0",
      "model_name": "ProgressStyleModel",
      "state": {
       "_model_module": "@jupyter-widgets/controls",
       "_model_module_version": "1.5.0",
       "_model_name": "ProgressStyleModel",
       "_view_count": null,
       "_view_module": "@jupyter-widgets/base",
       "_view_module_version": "1.2.0",
       "_view_name": "StyleView",
       "bar_color": null,
       "description_width": ""
      }
     },
     "daa56ebc4084424cb67a62810fee7d3a": {
      "model_module": "@jupyter-widgets/base",
      "model_module_version": "1.2.0",
      "model_name": "LayoutModel",
      "state": {
       "_model_module": "@jupyter-widgets/base",
       "_model_module_version": "1.2.0",
       "_model_name": "LayoutModel",
       "_view_count": null,
       "_view_module": "@jupyter-widgets/base",
       "_view_module_version": "1.2.0",
       "_view_name": "LayoutView",
       "align_content": null,
       "align_items": null,
       "align_self": null,
       "border": null,
       "bottom": null,
       "display": null,
       "flex": null,
       "flex_flow": null,
       "grid_area": null,
       "grid_auto_columns": null,
       "grid_auto_flow": null,
       "grid_auto_rows": null,
       "grid_column": null,
       "grid_gap": null,
       "grid_row": null,
       "grid_template_areas": null,
       "grid_template_columns": null,
       "grid_template_rows": null,
       "height": null,
       "justify_content": null,
       "justify_items": null,
       "left": null,
       "margin": null,
       "max_height": null,
       "max_width": null,
       "min_height": null,
       "min_width": null,
       "object_fit": null,
       "object_position": null,
       "order": null,
       "overflow": null,
       "overflow_x": null,
       "overflow_y": null,
       "padding": null,
       "right": null,
       "top": null,
       "visibility": null,
       "width": null
      }
     },
     "de1a013ad9be46dfbf0a53ee19a29eb4": {
      "model_module": "@jupyter-widgets/base",
      "model_module_version": "1.2.0",
      "model_name": "LayoutModel",
      "state": {
       "_model_module": "@jupyter-widgets/base",
       "_model_module_version": "1.2.0",
       "_model_name": "LayoutModel",
       "_view_count": null,
       "_view_module": "@jupyter-widgets/base",
       "_view_module_version": "1.2.0",
       "_view_name": "LayoutView",
       "align_content": null,
       "align_items": null,
       "align_self": null,
       "border": null,
       "bottom": null,
       "display": null,
       "flex": null,
       "flex_flow": null,
       "grid_area": null,
       "grid_auto_columns": null,
       "grid_auto_flow": null,
       "grid_auto_rows": null,
       "grid_column": null,
       "grid_gap": null,
       "grid_row": null,
       "grid_template_areas": null,
       "grid_template_columns": null,
       "grid_template_rows": null,
       "height": null,
       "justify_content": null,
       "justify_items": null,
       "left": null,
       "margin": null,
       "max_height": null,
       "max_width": null,
       "min_height": null,
       "min_width": null,
       "object_fit": null,
       "object_position": null,
       "order": null,
       "overflow": null,
       "overflow_x": null,
       "overflow_y": null,
       "padding": null,
       "right": null,
       "top": null,
       "visibility": null,
       "width": null
      }
     },
     "dfcf5d456d3e4c01b7d66318e251806a": {
      "model_module": "@jupyter-widgets/base",
      "model_module_version": "1.2.0",
      "model_name": "LayoutModel",
      "state": {
       "_model_module": "@jupyter-widgets/base",
       "_model_module_version": "1.2.0",
       "_model_name": "LayoutModel",
       "_view_count": null,
       "_view_module": "@jupyter-widgets/base",
       "_view_module_version": "1.2.0",
       "_view_name": "LayoutView",
       "align_content": null,
       "align_items": null,
       "align_self": null,
       "border": null,
       "bottom": null,
       "display": null,
       "flex": null,
       "flex_flow": null,
       "grid_area": null,
       "grid_auto_columns": null,
       "grid_auto_flow": null,
       "grid_auto_rows": null,
       "grid_column": null,
       "grid_gap": null,
       "grid_row": null,
       "grid_template_areas": null,
       "grid_template_columns": null,
       "grid_template_rows": null,
       "height": null,
       "justify_content": null,
       "justify_items": null,
       "left": null,
       "margin": null,
       "max_height": null,
       "max_width": null,
       "min_height": null,
       "min_width": null,
       "object_fit": null,
       "object_position": null,
       "order": null,
       "overflow": null,
       "overflow_x": null,
       "overflow_y": null,
       "padding": null,
       "right": null,
       "top": null,
       "visibility": null,
       "width": null
      }
     },
     "e612cd0070d54d54a55644fdd4ed80ea": {
      "model_module": "@jupyter-widgets/controls",
      "model_module_version": "1.5.0",
      "model_name": "HTMLModel",
      "state": {
       "_dom_classes": [],
       "_model_module": "@jupyter-widgets/controls",
       "_model_module_version": "1.5.0",
       "_model_name": "HTMLModel",
       "_view_count": null,
       "_view_module": "@jupyter-widgets/controls",
       "_view_module_version": "1.5.0",
       "_view_name": "HTMLView",
       "description": "",
       "description_tooltip": null,
       "layout": "IPY_MODEL_a261d20add5749288618865ccfad3cd8",
       "placeholder": "​",
       "style": "IPY_MODEL_40d353ff3e23425baf4a46e383004641",
       "value": "config.json: 100%"
      }
     },
     "e667e61c3b9547da98d28e8f894ad051": {
      "model_module": "@jupyter-widgets/base",
      "model_module_version": "1.2.0",
      "model_name": "LayoutModel",
      "state": {
       "_model_module": "@jupyter-widgets/base",
       "_model_module_version": "1.2.0",
       "_model_name": "LayoutModel",
       "_view_count": null,
       "_view_module": "@jupyter-widgets/base",
       "_view_module_version": "1.2.0",
       "_view_name": "LayoutView",
       "align_content": null,
       "align_items": null,
       "align_self": null,
       "border": null,
       "bottom": null,
       "display": null,
       "flex": null,
       "flex_flow": null,
       "grid_area": null,
       "grid_auto_columns": null,
       "grid_auto_flow": null,
       "grid_auto_rows": null,
       "grid_column": null,
       "grid_gap": null,
       "grid_row": null,
       "grid_template_areas": null,
       "grid_template_columns": null,
       "grid_template_rows": null,
       "height": null,
       "justify_content": null,
       "justify_items": null,
       "left": null,
       "margin": null,
       "max_height": null,
       "max_width": null,
       "min_height": null,
       "min_width": null,
       "object_fit": null,
       "object_position": null,
       "order": null,
       "overflow": null,
       "overflow_x": null,
       "overflow_y": null,
       "padding": null,
       "right": null,
       "top": null,
       "visibility": null,
       "width": null
      }
     },
     "f2a121711a034097b6947e1963653022": {
      "model_module": "@jupyter-widgets/controls",
      "model_module_version": "1.5.0",
      "model_name": "HBoxModel",
      "state": {
       "_dom_classes": [],
       "_model_module": "@jupyter-widgets/controls",
       "_model_module_version": "1.5.0",
       "_model_name": "HBoxModel",
       "_view_count": null,
       "_view_module": "@jupyter-widgets/controls",
       "_view_module_version": "1.5.0",
       "_view_name": "HBoxView",
       "box_style": "",
       "children": [
        "IPY_MODEL_78a21c021d134602b778dc53bfb172ea",
        "IPY_MODEL_326f9b73a7014e2fb29cd9fe1f5c6f1a",
        "IPY_MODEL_fad71b44151e45ed9f9b941320395266"
       ],
       "layout": "IPY_MODEL_6825870d2df64e4a99f90d7975d6eb71"
      }
     },
     "f59d36bae75647b2a0a92f444ff760cb": {
      "model_module": "@jupyter-widgets/base",
      "model_module_version": "1.2.0",
      "model_name": "LayoutModel",
      "state": {
       "_model_module": "@jupyter-widgets/base",
       "_model_module_version": "1.2.0",
       "_model_name": "LayoutModel",
       "_view_count": null,
       "_view_module": "@jupyter-widgets/base",
       "_view_module_version": "1.2.0",
       "_view_name": "LayoutView",
       "align_content": null,
       "align_items": null,
       "align_self": null,
       "border": null,
       "bottom": null,
       "display": null,
       "flex": null,
       "flex_flow": null,
       "grid_area": null,
       "grid_auto_columns": null,
       "grid_auto_flow": null,
       "grid_auto_rows": null,
       "grid_column": null,
       "grid_gap": null,
       "grid_row": null,
       "grid_template_areas": null,
       "grid_template_columns": null,
       "grid_template_rows": null,
       "height": null,
       "justify_content": null,
       "justify_items": null,
       "left": null,
       "margin": null,
       "max_height": null,
       "max_width": null,
       "min_height": null,
       "min_width": null,
       "object_fit": null,
       "object_position": null,
       "order": null,
       "overflow": null,
       "overflow_x": null,
       "overflow_y": null,
       "padding": null,
       "right": null,
       "top": null,
       "visibility": null,
       "width": null
      }
     },
     "fad71b44151e45ed9f9b941320395266": {
      "model_module": "@jupyter-widgets/controls",
      "model_module_version": "1.5.0",
      "model_name": "HTMLModel",
      "state": {
       "_dom_classes": [],
       "_model_module": "@jupyter-widgets/controls",
       "_model_module_version": "1.5.0",
       "_model_name": "HTMLModel",
       "_view_count": null,
       "_view_module": "@jupyter-widgets/controls",
       "_view_module_version": "1.5.0",
       "_view_name": "HTMLView",
       "description": "",
       "description_tooltip": null,
       "layout": "IPY_MODEL_feac2783956045e48549532f2050dac4",
       "placeholder": "​",
       "style": "IPY_MODEL_b08805b629a54d939c18e69e11d51a30",
       "value": " 5.68G/5.68G [00:27&lt;00:00, 207MB/s]"
      }
     },
     "feac2783956045e48549532f2050dac4": {
      "model_module": "@jupyter-widgets/base",
      "model_module_version": "1.2.0",
      "model_name": "LayoutModel",
      "state": {
       "_model_module": "@jupyter-widgets/base",
       "_model_module_version": "1.2.0",
       "_model_name": "LayoutModel",
       "_view_count": null,
       "_view_module": "@jupyter-widgets/base",
       "_view_module_version": "1.2.0",
       "_view_name": "LayoutView",
       "align_content": null,
       "align_items": null,
       "align_self": null,
       "border": null,
       "bottom": null,
       "display": null,
       "flex": null,
       "flex_flow": null,
       "grid_area": null,
       "grid_auto_columns": null,
       "grid_auto_flow": null,
       "grid_auto_rows": null,
       "grid_column": null,
       "grid_gap": null,
       "grid_row": null,
       "grid_template_areas": null,
       "grid_template_columns": null,
       "grid_template_rows": null,
       "height": null,
       "justify_content": null,
       "justify_items": null,
       "left": null,
       "margin": null,
       "max_height": null,
       "max_width": null,
       "min_height": null,
       "min_width": null,
       "object_fit": null,
       "object_position": null,
       "order": null,
       "overflow": null,
       "overflow_x": null,
       "overflow_y": null,
       "padding": null,
       "right": null,
       "top": null,
       "visibility": null,
       "width": null
      }
     }
    },
    "version_major": 2,
    "version_minor": 0
   }
  }
 },
 "nbformat": 4,
 "nbformat_minor": 5
}
